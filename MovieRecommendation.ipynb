{
  "nbformat": 4,
  "nbformat_minor": 0,
  "metadata": {
    "colab": {
      "provenance": []
    },
    "kernelspec": {
      "name": "python3",
      "display_name": "Python 3"
    },
    "language_info": {
      "name": "python"
    }
  },
  "cells": [
    {
      "cell_type": "code",
      "source": [
        "\n",
        "from google.colab import drive\n",
        "drive.mount('/content/drive')"
      ],
      "metadata": {
        "colab": {
          "base_uri": "https://localhost:8080/"
        },
        "id": "QoxfExVJrg2Y",
        "outputId": "d30ee4b7-2539-4870-ce2f-5d544ecddfbe"
      },
      "execution_count": null,
      "outputs": [
        {
          "output_type": "stream",
          "name": "stdout",
          "text": [
            "Mounted at /content/drive\n"
          ]
        }
      ]
    },
    {
      "cell_type": "code",
      "source": [
        "import pandas as pd\n",
        "import numpy as np\n",
        "import csv"
      ],
      "metadata": {
        "id": "SsgveZgvr40E"
      },
      "execution_count": null,
      "outputs": []
    },
    {
      "cell_type": "code",
      "source": [
        "movies = pd.read_csv('movie.csv')\n",
        "     "
      ],
      "metadata": {
        "id": "WdlatUAftYZJ"
      },
      "execution_count": null,
      "outputs": []
    },
    {
      "cell_type": "code",
      "source": [
        "\n",
        "movies.head()"
      ],
      "metadata": {
        "colab": {
          "base_uri": "https://localhost:8080/",
          "height": 774
        },
        "id": "9ZgbLau_uPRy",
        "outputId": "668702fc-285f-4517-ca1f-893e02e90b37"
      },
      "execution_count": null,
      "outputs": [
        {
          "output_type": "execute_result",
          "data": {
            "text/plain": [
              "      budget                                             genres  \\\n",
              "0  237000000  [{\"id\": 28, \"name\": \"Action\"}, {\"id\": 12, \"nam...   \n",
              "1  300000000  [{\"id\": 12, \"name\": \"Adventure\"}, {\"id\": 14, \"...   \n",
              "2  245000000  [{\"id\": 28, \"name\": \"Action\"}, {\"id\": 12, \"nam...   \n",
              "3  250000000  [{\"id\": 28, \"name\": \"Action\"}, {\"id\": 80, \"nam...   \n",
              "4  260000000  [{\"id\": 28, \"name\": \"Action\"}, {\"id\": 12, \"nam...   \n",
              "\n",
              "                                       homepage      id  \\\n",
              "0                   http://www.avatarmovie.com/   19995   \n",
              "1  http://disney.go.com/disneypictures/pirates/     285   \n",
              "2   http://www.sonypictures.com/movies/spectre/  206647   \n",
              "3            http://www.thedarkknightrises.com/   49026   \n",
              "4          http://movies.disney.com/john-carter   49529   \n",
              "\n",
              "                                            keywords original_language  \\\n",
              "0  [{\"id\": 1463, \"name\": \"culture clash\"}, {\"id\":...                en   \n",
              "1  [{\"id\": 270, \"name\": \"ocean\"}, {\"id\": 726, \"na...                en   \n",
              "2  [{\"id\": 470, \"name\": \"spy\"}, {\"id\": 818, \"name...                en   \n",
              "3  [{\"id\": 849, \"name\": \"dc comics\"}, {\"id\": 853,...                en   \n",
              "4  [{\"id\": 818, \"name\": \"based on novel\"}, {\"id\":...                en   \n",
              "\n",
              "                             original_title  \\\n",
              "0                                    Avatar   \n",
              "1  Pirates of the Caribbean: At World's End   \n",
              "2                                   Spectre   \n",
              "3                     The Dark Knight Rises   \n",
              "4                               John Carter   \n",
              "\n",
              "                                            overview  popularity  \\\n",
              "0  In the 22nd century, a paraplegic Marine is di...  150.437577   \n",
              "1  Captain Barbossa, long believed to be dead, ha...  139.082615   \n",
              "2  A cryptic message from Bond’s past sends him o...  107.376788   \n",
              "3  Following the death of District Attorney Harve...  112.312950   \n",
              "4  John Carter is a war-weary, former military ca...   43.926995   \n",
              "\n",
              "                                production_companies  \\\n",
              "0  [{\"name\": \"Ingenious Film Partners\", \"id\": 289...   \n",
              "1  [{\"name\": \"Walt Disney Pictures\", \"id\": 2}, {\"...   \n",
              "2  [{\"name\": \"Columbia Pictures\", \"id\": 5}, {\"nam...   \n",
              "3  [{\"name\": \"Legendary Pictures\", \"id\": 923}, {\"...   \n",
              "4        [{\"name\": \"Walt Disney Pictures\", \"id\": 2}]   \n",
              "\n",
              "                                production_countries release_date     revenue  \\\n",
              "0  [{\"iso_3166_1\": \"US\", \"name\": \"United States o...   2009-12-10  2787965087   \n",
              "1  [{\"iso_3166_1\": \"US\", \"name\": \"United States o...   2007-05-19   961000000   \n",
              "2  [{\"iso_3166_1\": \"GB\", \"name\": \"United Kingdom\"...   2015-10-26   880674609   \n",
              "3  [{\"iso_3166_1\": \"US\", \"name\": \"United States o...   2012-07-16  1084939099   \n",
              "4  [{\"iso_3166_1\": \"US\", \"name\": \"United States o...   2012-03-07   284139100   \n",
              "\n",
              "   runtime                                   spoken_languages    status  \\\n",
              "0    162.0  [{\"iso_639_1\": \"en\", \"name\": \"English\"}, {\"iso...  Released   \n",
              "1    169.0           [{\"iso_639_1\": \"en\", \"name\": \"English\"}]  Released   \n",
              "2    148.0  [{\"iso_639_1\": \"fr\", \"name\": \"Fran\\u00e7ais\"},...  Released   \n",
              "3    165.0           [{\"iso_639_1\": \"en\", \"name\": \"English\"}]  Released   \n",
              "4    132.0           [{\"iso_639_1\": \"en\", \"name\": \"English\"}]  Released   \n",
              "\n",
              "                                          tagline  \\\n",
              "0                     Enter the World of Pandora.   \n",
              "1  At the end of the world, the adventure begins.   \n",
              "2                           A Plan No One Escapes   \n",
              "3                                 The Legend Ends   \n",
              "4            Lost in our world, found in another.   \n",
              "\n",
              "                                      title  vote_average  vote_count  \n",
              "0                                    Avatar           7.2       11800  \n",
              "1  Pirates of the Caribbean: At World's End           6.9        4500  \n",
              "2                                   Spectre           6.3        4466  \n",
              "3                     The Dark Knight Rises           7.6        9106  \n",
              "4                               John Carter           6.1        2124  "
            ],
            "text/html": [
              "\n",
              "  <div id=\"df-c6376acf-3c96-434c-87cb-04f1bdfe5055\">\n",
              "    <div class=\"colab-df-container\">\n",
              "      <div>\n",
              "<style scoped>\n",
              "    .dataframe tbody tr th:only-of-type {\n",
              "        vertical-align: middle;\n",
              "    }\n",
              "\n",
              "    .dataframe tbody tr th {\n",
              "        vertical-align: top;\n",
              "    }\n",
              "\n",
              "    .dataframe thead th {\n",
              "        text-align: right;\n",
              "    }\n",
              "</style>\n",
              "<table border=\"1\" class=\"dataframe\">\n",
              "  <thead>\n",
              "    <tr style=\"text-align: right;\">\n",
              "      <th></th>\n",
              "      <th>budget</th>\n",
              "      <th>genres</th>\n",
              "      <th>homepage</th>\n",
              "      <th>id</th>\n",
              "      <th>keywords</th>\n",
              "      <th>original_language</th>\n",
              "      <th>original_title</th>\n",
              "      <th>overview</th>\n",
              "      <th>popularity</th>\n",
              "      <th>production_companies</th>\n",
              "      <th>production_countries</th>\n",
              "      <th>release_date</th>\n",
              "      <th>revenue</th>\n",
              "      <th>runtime</th>\n",
              "      <th>spoken_languages</th>\n",
              "      <th>status</th>\n",
              "      <th>tagline</th>\n",
              "      <th>title</th>\n",
              "      <th>vote_average</th>\n",
              "      <th>vote_count</th>\n",
              "    </tr>\n",
              "  </thead>\n",
              "  <tbody>\n",
              "    <tr>\n",
              "      <th>0</th>\n",
              "      <td>237000000</td>\n",
              "      <td>[{\"id\": 28, \"name\": \"Action\"}, {\"id\": 12, \"nam...</td>\n",
              "      <td>http://www.avatarmovie.com/</td>\n",
              "      <td>19995</td>\n",
              "      <td>[{\"id\": 1463, \"name\": \"culture clash\"}, {\"id\":...</td>\n",
              "      <td>en</td>\n",
              "      <td>Avatar</td>\n",
              "      <td>In the 22nd century, a paraplegic Marine is di...</td>\n",
              "      <td>150.437577</td>\n",
              "      <td>[{\"name\": \"Ingenious Film Partners\", \"id\": 289...</td>\n",
              "      <td>[{\"iso_3166_1\": \"US\", \"name\": \"United States o...</td>\n",
              "      <td>2009-12-10</td>\n",
              "      <td>2787965087</td>\n",
              "      <td>162.0</td>\n",
              "      <td>[{\"iso_639_1\": \"en\", \"name\": \"English\"}, {\"iso...</td>\n",
              "      <td>Released</td>\n",
              "      <td>Enter the World of Pandora.</td>\n",
              "      <td>Avatar</td>\n",
              "      <td>7.2</td>\n",
              "      <td>11800</td>\n",
              "    </tr>\n",
              "    <tr>\n",
              "      <th>1</th>\n",
              "      <td>300000000</td>\n",
              "      <td>[{\"id\": 12, \"name\": \"Adventure\"}, {\"id\": 14, \"...</td>\n",
              "      <td>http://disney.go.com/disneypictures/pirates/</td>\n",
              "      <td>285</td>\n",
              "      <td>[{\"id\": 270, \"name\": \"ocean\"}, {\"id\": 726, \"na...</td>\n",
              "      <td>en</td>\n",
              "      <td>Pirates of the Caribbean: At World's End</td>\n",
              "      <td>Captain Barbossa, long believed to be dead, ha...</td>\n",
              "      <td>139.082615</td>\n",
              "      <td>[{\"name\": \"Walt Disney Pictures\", \"id\": 2}, {\"...</td>\n",
              "      <td>[{\"iso_3166_1\": \"US\", \"name\": \"United States o...</td>\n",
              "      <td>2007-05-19</td>\n",
              "      <td>961000000</td>\n",
              "      <td>169.0</td>\n",
              "      <td>[{\"iso_639_1\": \"en\", \"name\": \"English\"}]</td>\n",
              "      <td>Released</td>\n",
              "      <td>At the end of the world, the adventure begins.</td>\n",
              "      <td>Pirates of the Caribbean: At World's End</td>\n",
              "      <td>6.9</td>\n",
              "      <td>4500</td>\n",
              "    </tr>\n",
              "    <tr>\n",
              "      <th>2</th>\n",
              "      <td>245000000</td>\n",
              "      <td>[{\"id\": 28, \"name\": \"Action\"}, {\"id\": 12, \"nam...</td>\n",
              "      <td>http://www.sonypictures.com/movies/spectre/</td>\n",
              "      <td>206647</td>\n",
              "      <td>[{\"id\": 470, \"name\": \"spy\"}, {\"id\": 818, \"name...</td>\n",
              "      <td>en</td>\n",
              "      <td>Spectre</td>\n",
              "      <td>A cryptic message from Bond’s past sends him o...</td>\n",
              "      <td>107.376788</td>\n",
              "      <td>[{\"name\": \"Columbia Pictures\", \"id\": 5}, {\"nam...</td>\n",
              "      <td>[{\"iso_3166_1\": \"GB\", \"name\": \"United Kingdom\"...</td>\n",
              "      <td>2015-10-26</td>\n",
              "      <td>880674609</td>\n",
              "      <td>148.0</td>\n",
              "      <td>[{\"iso_639_1\": \"fr\", \"name\": \"Fran\\u00e7ais\"},...</td>\n",
              "      <td>Released</td>\n",
              "      <td>A Plan No One Escapes</td>\n",
              "      <td>Spectre</td>\n",
              "      <td>6.3</td>\n",
              "      <td>4466</td>\n",
              "    </tr>\n",
              "    <tr>\n",
              "      <th>3</th>\n",
              "      <td>250000000</td>\n",
              "      <td>[{\"id\": 28, \"name\": \"Action\"}, {\"id\": 80, \"nam...</td>\n",
              "      <td>http://www.thedarkknightrises.com/</td>\n",
              "      <td>49026</td>\n",
              "      <td>[{\"id\": 849, \"name\": \"dc comics\"}, {\"id\": 853,...</td>\n",
              "      <td>en</td>\n",
              "      <td>The Dark Knight Rises</td>\n",
              "      <td>Following the death of District Attorney Harve...</td>\n",
              "      <td>112.312950</td>\n",
              "      <td>[{\"name\": \"Legendary Pictures\", \"id\": 923}, {\"...</td>\n",
              "      <td>[{\"iso_3166_1\": \"US\", \"name\": \"United States o...</td>\n",
              "      <td>2012-07-16</td>\n",
              "      <td>1084939099</td>\n",
              "      <td>165.0</td>\n",
              "      <td>[{\"iso_639_1\": \"en\", \"name\": \"English\"}]</td>\n",
              "      <td>Released</td>\n",
              "      <td>The Legend Ends</td>\n",
              "      <td>The Dark Knight Rises</td>\n",
              "      <td>7.6</td>\n",
              "      <td>9106</td>\n",
              "    </tr>\n",
              "    <tr>\n",
              "      <th>4</th>\n",
              "      <td>260000000</td>\n",
              "      <td>[{\"id\": 28, \"name\": \"Action\"}, {\"id\": 12, \"nam...</td>\n",
              "      <td>http://movies.disney.com/john-carter</td>\n",
              "      <td>49529</td>\n",
              "      <td>[{\"id\": 818, \"name\": \"based on novel\"}, {\"id\":...</td>\n",
              "      <td>en</td>\n",
              "      <td>John Carter</td>\n",
              "      <td>John Carter is a war-weary, former military ca...</td>\n",
              "      <td>43.926995</td>\n",
              "      <td>[{\"name\": \"Walt Disney Pictures\", \"id\": 2}]</td>\n",
              "      <td>[{\"iso_3166_1\": \"US\", \"name\": \"United States o...</td>\n",
              "      <td>2012-03-07</td>\n",
              "      <td>284139100</td>\n",
              "      <td>132.0</td>\n",
              "      <td>[{\"iso_639_1\": \"en\", \"name\": \"English\"}]</td>\n",
              "      <td>Released</td>\n",
              "      <td>Lost in our world, found in another.</td>\n",
              "      <td>John Carter</td>\n",
              "      <td>6.1</td>\n",
              "      <td>2124</td>\n",
              "    </tr>\n",
              "  </tbody>\n",
              "</table>\n",
              "</div>\n",
              "      <button class=\"colab-df-convert\" onclick=\"convertToInteractive('df-c6376acf-3c96-434c-87cb-04f1bdfe5055')\"\n",
              "              title=\"Convert this dataframe to an interactive table.\"\n",
              "              style=\"display:none;\">\n",
              "        \n",
              "  <svg xmlns=\"http://www.w3.org/2000/svg\" height=\"24px\"viewBox=\"0 0 24 24\"\n",
              "       width=\"24px\">\n",
              "    <path d=\"M0 0h24v24H0V0z\" fill=\"none\"/>\n",
              "    <path d=\"M18.56 5.44l.94 2.06.94-2.06 2.06-.94-2.06-.94-.94-2.06-.94 2.06-2.06.94zm-11 1L8.5 8.5l.94-2.06 2.06-.94-2.06-.94L8.5 2.5l-.94 2.06-2.06.94zm10 10l.94 2.06.94-2.06 2.06-.94-2.06-.94-.94-2.06-.94 2.06-2.06.94z\"/><path d=\"M17.41 7.96l-1.37-1.37c-.4-.4-.92-.59-1.43-.59-.52 0-1.04.2-1.43.59L10.3 9.45l-7.72 7.72c-.78.78-.78 2.05 0 2.83L4 21.41c.39.39.9.59 1.41.59.51 0 1.02-.2 1.41-.59l7.78-7.78 2.81-2.81c.8-.78.8-2.07 0-2.86zM5.41 20L4 18.59l7.72-7.72 1.47 1.35L5.41 20z\"/>\n",
              "  </svg>\n",
              "      </button>\n",
              "      \n",
              "  <style>\n",
              "    .colab-df-container {\n",
              "      display:flex;\n",
              "      flex-wrap:wrap;\n",
              "      gap: 12px;\n",
              "    }\n",
              "\n",
              "    .colab-df-convert {\n",
              "      background-color: #E8F0FE;\n",
              "      border: none;\n",
              "      border-radius: 50%;\n",
              "      cursor: pointer;\n",
              "      display: none;\n",
              "      fill: #1967D2;\n",
              "      height: 32px;\n",
              "      padding: 0 0 0 0;\n",
              "      width: 32px;\n",
              "    }\n",
              "\n",
              "    .colab-df-convert:hover {\n",
              "      background-color: #E2EBFA;\n",
              "      box-shadow: 0px 1px 2px rgba(60, 64, 67, 0.3), 0px 1px 3px 1px rgba(60, 64, 67, 0.15);\n",
              "      fill: #174EA6;\n",
              "    }\n",
              "\n",
              "    [theme=dark] .colab-df-convert {\n",
              "      background-color: #3B4455;\n",
              "      fill: #D2E3FC;\n",
              "    }\n",
              "\n",
              "    [theme=dark] .colab-df-convert:hover {\n",
              "      background-color: #434B5C;\n",
              "      box-shadow: 0px 1px 3px 1px rgba(0, 0, 0, 0.15);\n",
              "      filter: drop-shadow(0px 1px 2px rgba(0, 0, 0, 0.3));\n",
              "      fill: #FFFFFF;\n",
              "    }\n",
              "  </style>\n",
              "\n",
              "      <script>\n",
              "        const buttonEl =\n",
              "          document.querySelector('#df-c6376acf-3c96-434c-87cb-04f1bdfe5055 button.colab-df-convert');\n",
              "        buttonEl.style.display =\n",
              "          google.colab.kernel.accessAllowed ? 'block' : 'none';\n",
              "\n",
              "        async function convertToInteractive(key) {\n",
              "          const element = document.querySelector('#df-c6376acf-3c96-434c-87cb-04f1bdfe5055');\n",
              "          const dataTable =\n",
              "            await google.colab.kernel.invokeFunction('convertToInteractive',\n",
              "                                                     [key], {});\n",
              "          if (!dataTable) return;\n",
              "\n",
              "          const docLinkHtml = 'Like what you see? Visit the ' +\n",
              "            '<a target=\"_blank\" href=https://colab.research.google.com/notebooks/data_table.ipynb>data table notebook</a>'\n",
              "            + ' to learn more about interactive tables.';\n",
              "          element.innerHTML = '';\n",
              "          dataTable['output_type'] = 'display_data';\n",
              "          await google.colab.output.renderOutput(dataTable, element);\n",
              "          const docLink = document.createElement('div');\n",
              "          docLink.innerHTML = docLinkHtml;\n",
              "          element.appendChild(docLink);\n",
              "        }\n",
              "      </script>\n",
              "    </div>\n",
              "  </div>\n",
              "  "
            ]
          },
          "metadata": {},
          "execution_count": 15
        }
      ]
    },
    {
      "cell_type": "code",
      "source": [
        "\n",
        "movies[\"keywords\"][0]"
      ],
      "metadata": {
        "colab": {
          "base_uri": "https://localhost:8080/",
          "height": 140
        },
        "id": "1bq7-5vFuaAb",
        "outputId": "cd92c0d0-b6b5-4126-99cf-02ffcea72d32"
      },
      "execution_count": null,
      "outputs": [
        {
          "output_type": "execute_result",
          "data": {
            "text/plain": [
              "'[{\"id\": 1463, \"name\": \"culture clash\"}, {\"id\": 2964, \"name\": \"future\"}, {\"id\": 3386, \"name\": \"space war\"}, {\"id\": 3388, \"name\": \"space colony\"}, {\"id\": 3679, \"name\": \"society\"}, {\"id\": 3801, \"name\": \"space travel\"}, {\"id\": 9685, \"name\": \"futuristic\"}, {\"id\": 9840, \"name\": \"romance\"}, {\"id\": 9882, \"name\": \"space\"}, {\"id\": 9951, \"name\": \"alien\"}, {\"id\": 10148, \"name\": \"tribe\"}, {\"id\": 10158, \"name\": \"alien planet\"}, {\"id\": 10987, \"name\": \"cgi\"}, {\"id\": 11399, \"name\": \"marine\"}, {\"id\": 13065, \"name\": \"soldier\"}, {\"id\": 14643, \"name\": \"battle\"}, {\"id\": 14720, \"name\": \"love affair\"}, {\"id\": 165431, \"name\": \"anti war\"}, {\"id\": 193554, \"name\": \"power relations\"}, {\"id\": 206690, \"name\": \"mind and soul\"}, {\"id\": 209714, \"name\": \"3d\"}]'"
            ],
            "application/vnd.google.colaboratory.intrinsic+json": {
              "type": "string"
            }
          },
          "metadata": {},
          "execution_count": 16
        }
      ]
    },
    {
      "cell_type": "code",
      "source": [
        "movies[\"tagline\"][0]"
      ],
      "metadata": {
        "colab": {
          "base_uri": "https://localhost:8080/",
          "height": 35
        },
        "id": "v3i_kSAFubvl",
        "outputId": "e1e4d646-ca93-42dd-e17b-0c0608085482"
      },
      "execution_count": null,
      "outputs": [
        {
          "output_type": "execute_result",
          "data": {
            "text/plain": [
              "'Enter the World of Pandora.'"
            ],
            "application/vnd.google.colaboratory.intrinsic+json": {
              "type": "string"
            }
          },
          "metadata": {},
          "execution_count": 17
        }
      ]
    },
    {
      "cell_type": "code",
      "source": [
        "\n",
        "movies[\"overview\"][0]"
      ],
      "metadata": {
        "colab": {
          "base_uri": "https://localhost:8080/",
          "height": 53
        },
        "id": "RR5ZIxqyuhkB",
        "outputId": "32ceef61-2035-474e-f39d-c94b2b64ed0c"
      },
      "execution_count": null,
      "outputs": [
        {
          "output_type": "execute_result",
          "data": {
            "text/plain": [
              "'In the 22nd century, a paraplegic Marine is dispatched to the moon Pandora on a unique mission, but becomes torn between following orders and protecting an alien civilization.'"
            ],
            "application/vnd.google.colaboratory.intrinsic+json": {
              "type": "string"
            }
          },
          "metadata": {},
          "execution_count": 18
        }
      ]
    },
    {
      "cell_type": "code",
      "source": [
        "df2=pd.read_csv('movie_credit.csv')"
      ],
      "metadata": {
        "id": "RMrSYPgdumTu"
      },
      "execution_count": null,
      "outputs": []
    },
    {
      "cell_type": "code",
      "source": [
        "\n",
        "df2.head()"
      ],
      "metadata": {
        "colab": {
          "base_uri": "https://localhost:8080/",
          "height": 337
        },
        "id": "pYgHADqFvDBP",
        "outputId": "cddd4557-fa7d-4737-d455-fdf58663d050"
      },
      "execution_count": null,
      "outputs": [
        {
          "output_type": "execute_result",
          "data": {
            "text/plain": [
              "   movie_id                                     title  \\\n",
              "0     19995                                    Avatar   \n",
              "1       285  Pirates of the Caribbean: At World's End   \n",
              "2    206647                                   Spectre   \n",
              "3     49026                     The Dark Knight Rises   \n",
              "4     49529                               John Carter   \n",
              "\n",
              "                                                cast  \\\n",
              "0  [{\"cast_id\": 242, \"character\": \"Jake Sully\", \"...   \n",
              "1  [{\"cast_id\": 4, \"character\": \"Captain Jack Spa...   \n",
              "2  [{\"cast_id\": 1, \"character\": \"James Bond\", \"cr...   \n",
              "3  [{\"cast_id\": 2, \"character\": \"Bruce Wayne / Ba...   \n",
              "4  [{\"cast_id\": 5, \"character\": \"John Carter\", \"c...   \n",
              "\n",
              "                                                crew  \n",
              "0  [{\"credit_id\": \"52fe48009251416c750aca23\", \"de...  \n",
              "1  [{\"credit_id\": \"52fe4232c3a36847f800b579\", \"de...  \n",
              "2  [{\"credit_id\": \"54805967c3a36829b5002c41\", \"de...  \n",
              "3  [{\"credit_id\": \"52fe4781c3a36847f81398c3\", \"de...  \n",
              "4  [{\"credit_id\": \"52fe479ac3a36847f813eaa3\", \"de...  "
            ],
            "text/html": [
              "\n",
              "  <div id=\"df-c4de74ad-cf48-458a-96ec-6cd3fc97ac72\">\n",
              "    <div class=\"colab-df-container\">\n",
              "      <div>\n",
              "<style scoped>\n",
              "    .dataframe tbody tr th:only-of-type {\n",
              "        vertical-align: middle;\n",
              "    }\n",
              "\n",
              "    .dataframe tbody tr th {\n",
              "        vertical-align: top;\n",
              "    }\n",
              "\n",
              "    .dataframe thead th {\n",
              "        text-align: right;\n",
              "    }\n",
              "</style>\n",
              "<table border=\"1\" class=\"dataframe\">\n",
              "  <thead>\n",
              "    <tr style=\"text-align: right;\">\n",
              "      <th></th>\n",
              "      <th>movie_id</th>\n",
              "      <th>title</th>\n",
              "      <th>cast</th>\n",
              "      <th>crew</th>\n",
              "    </tr>\n",
              "  </thead>\n",
              "  <tbody>\n",
              "    <tr>\n",
              "      <th>0</th>\n",
              "      <td>19995</td>\n",
              "      <td>Avatar</td>\n",
              "      <td>[{\"cast_id\": 242, \"character\": \"Jake Sully\", \"...</td>\n",
              "      <td>[{\"credit_id\": \"52fe48009251416c750aca23\", \"de...</td>\n",
              "    </tr>\n",
              "    <tr>\n",
              "      <th>1</th>\n",
              "      <td>285</td>\n",
              "      <td>Pirates of the Caribbean: At World's End</td>\n",
              "      <td>[{\"cast_id\": 4, \"character\": \"Captain Jack Spa...</td>\n",
              "      <td>[{\"credit_id\": \"52fe4232c3a36847f800b579\", \"de...</td>\n",
              "    </tr>\n",
              "    <tr>\n",
              "      <th>2</th>\n",
              "      <td>206647</td>\n",
              "      <td>Spectre</td>\n",
              "      <td>[{\"cast_id\": 1, \"character\": \"James Bond\", \"cr...</td>\n",
              "      <td>[{\"credit_id\": \"54805967c3a36829b5002c41\", \"de...</td>\n",
              "    </tr>\n",
              "    <tr>\n",
              "      <th>3</th>\n",
              "      <td>49026</td>\n",
              "      <td>The Dark Knight Rises</td>\n",
              "      <td>[{\"cast_id\": 2, \"character\": \"Bruce Wayne / Ba...</td>\n",
              "      <td>[{\"credit_id\": \"52fe4781c3a36847f81398c3\", \"de...</td>\n",
              "    </tr>\n",
              "    <tr>\n",
              "      <th>4</th>\n",
              "      <td>49529</td>\n",
              "      <td>John Carter</td>\n",
              "      <td>[{\"cast_id\": 5, \"character\": \"John Carter\", \"c...</td>\n",
              "      <td>[{\"credit_id\": \"52fe479ac3a36847f813eaa3\", \"de...</td>\n",
              "    </tr>\n",
              "  </tbody>\n",
              "</table>\n",
              "</div>\n",
              "      <button class=\"colab-df-convert\" onclick=\"convertToInteractive('df-c4de74ad-cf48-458a-96ec-6cd3fc97ac72')\"\n",
              "              title=\"Convert this dataframe to an interactive table.\"\n",
              "              style=\"display:none;\">\n",
              "        \n",
              "  <svg xmlns=\"http://www.w3.org/2000/svg\" height=\"24px\"viewBox=\"0 0 24 24\"\n",
              "       width=\"24px\">\n",
              "    <path d=\"M0 0h24v24H0V0z\" fill=\"none\"/>\n",
              "    <path d=\"M18.56 5.44l.94 2.06.94-2.06 2.06-.94-2.06-.94-.94-2.06-.94 2.06-2.06.94zm-11 1L8.5 8.5l.94-2.06 2.06-.94-2.06-.94L8.5 2.5l-.94 2.06-2.06.94zm10 10l.94 2.06.94-2.06 2.06-.94-2.06-.94-.94-2.06-.94 2.06-2.06.94z\"/><path d=\"M17.41 7.96l-1.37-1.37c-.4-.4-.92-.59-1.43-.59-.52 0-1.04.2-1.43.59L10.3 9.45l-7.72 7.72c-.78.78-.78 2.05 0 2.83L4 21.41c.39.39.9.59 1.41.59.51 0 1.02-.2 1.41-.59l7.78-7.78 2.81-2.81c.8-.78.8-2.07 0-2.86zM5.41 20L4 18.59l7.72-7.72 1.47 1.35L5.41 20z\"/>\n",
              "  </svg>\n",
              "      </button>\n",
              "      \n",
              "  <style>\n",
              "    .colab-df-container {\n",
              "      display:flex;\n",
              "      flex-wrap:wrap;\n",
              "      gap: 12px;\n",
              "    }\n",
              "\n",
              "    .colab-df-convert {\n",
              "      background-color: #E8F0FE;\n",
              "      border: none;\n",
              "      border-radius: 50%;\n",
              "      cursor: pointer;\n",
              "      display: none;\n",
              "      fill: #1967D2;\n",
              "      height: 32px;\n",
              "      padding: 0 0 0 0;\n",
              "      width: 32px;\n",
              "    }\n",
              "\n",
              "    .colab-df-convert:hover {\n",
              "      background-color: #E2EBFA;\n",
              "      box-shadow: 0px 1px 2px rgba(60, 64, 67, 0.3), 0px 1px 3px 1px rgba(60, 64, 67, 0.15);\n",
              "      fill: #174EA6;\n",
              "    }\n",
              "\n",
              "    [theme=dark] .colab-df-convert {\n",
              "      background-color: #3B4455;\n",
              "      fill: #D2E3FC;\n",
              "    }\n",
              "\n",
              "    [theme=dark] .colab-df-convert:hover {\n",
              "      background-color: #434B5C;\n",
              "      box-shadow: 0px 1px 3px 1px rgba(0, 0, 0, 0.15);\n",
              "      filter: drop-shadow(0px 1px 2px rgba(0, 0, 0, 0.3));\n",
              "      fill: #FFFFFF;\n",
              "    }\n",
              "  </style>\n",
              "\n",
              "      <script>\n",
              "        const buttonEl =\n",
              "          document.querySelector('#df-c4de74ad-cf48-458a-96ec-6cd3fc97ac72 button.colab-df-convert');\n",
              "        buttonEl.style.display =\n",
              "          google.colab.kernel.accessAllowed ? 'block' : 'none';\n",
              "\n",
              "        async function convertToInteractive(key) {\n",
              "          const element = document.querySelector('#df-c4de74ad-cf48-458a-96ec-6cd3fc97ac72');\n",
              "          const dataTable =\n",
              "            await google.colab.kernel.invokeFunction('convertToInteractive',\n",
              "                                                     [key], {});\n",
              "          if (!dataTable) return;\n",
              "\n",
              "          const docLinkHtml = 'Like what you see? Visit the ' +\n",
              "            '<a target=\"_blank\" href=https://colab.research.google.com/notebooks/data_table.ipynb>data table notebook</a>'\n",
              "            + ' to learn more about interactive tables.';\n",
              "          element.innerHTML = '';\n",
              "          dataTable['output_type'] = 'display_data';\n",
              "          await google.colab.output.renderOutput(dataTable, element);\n",
              "          const docLink = document.createElement('div');\n",
              "          docLink.innerHTML = docLinkHtml;\n",
              "          element.appendChild(docLink);\n",
              "        }\n",
              "      </script>\n",
              "    </div>\n",
              "  </div>\n",
              "  "
            ]
          },
          "metadata": {},
          "execution_count": 20
        }
      ]
    },
    {
      "cell_type": "code",
      "source": [
        "df2[\"cast\"]"
      ],
      "metadata": {
        "colab": {
          "base_uri": "https://localhost:8080/"
        },
        "id": "-frP3CdOvHNg",
        "outputId": "ec870249-d02f-438d-8426-37c1d46deea8"
      },
      "execution_count": null,
      "outputs": [
        {
          "output_type": "execute_result",
          "data": {
            "text/plain": [
              "0       [{\"cast_id\": 242, \"character\": \"Jake Sully\", \"...\n",
              "1       [{\"cast_id\": 4, \"character\": \"Captain Jack Spa...\n",
              "2       [{\"cast_id\": 1, \"character\": \"James Bond\", \"cr...\n",
              "3       [{\"cast_id\": 2, \"character\": \"Bruce Wayne / Ba...\n",
              "4       [{\"cast_id\": 5, \"character\": \"John Carter\", \"c...\n",
              "                              ...                        \n",
              "4798    [{\"cast_id\": 1, \"character\": \"El Mariachi\", \"c...\n",
              "4799    [{\"cast_id\": 1, \"character\": \"Buzzy\", \"credit_...\n",
              "4800    [{\"cast_id\": 8, \"character\": \"Oliver O\\u2019To...\n",
              "4801    [{\"cast_id\": 3, \"character\": \"Sam\", \"credit_id...\n",
              "4802    [{\"cast_id\": 3, \"character\": \"Herself\", \"credi...\n",
              "Name: cast, Length: 4803, dtype: object"
            ]
          },
          "metadata": {},
          "execution_count": 21
        }
      ]
    },
    {
      "cell_type": "code",
      "source": [
        "movies=movies.merge(df2,on=\"title\")"
      ],
      "metadata": {
        "id": "1gXkTKUYvKk4"
      },
      "execution_count": null,
      "outputs": []
    },
    {
      "cell_type": "code",
      "source": [
        "\n",
        "movies.info()"
      ],
      "metadata": {
        "colab": {
          "base_uri": "https://localhost:8080/"
        },
        "id": "fhGSZUHdvPVN",
        "outputId": "a150dacf-1e95-4df1-e977-be2ee52c0954"
      },
      "execution_count": null,
      "outputs": [
        {
          "output_type": "stream",
          "name": "stdout",
          "text": [
            "<class 'pandas.core.frame.DataFrame'>\n",
            "Int64Index: 4809 entries, 0 to 4808\n",
            "Data columns (total 23 columns):\n",
            " #   Column                Non-Null Count  Dtype  \n",
            "---  ------                --------------  -----  \n",
            " 0   budget                4809 non-null   int64  \n",
            " 1   genres                4809 non-null   object \n",
            " 2   homepage              1713 non-null   object \n",
            " 3   id                    4809 non-null   int64  \n",
            " 4   keywords              4809 non-null   object \n",
            " 5   original_language     4809 non-null   object \n",
            " 6   original_title        4809 non-null   object \n",
            " 7   overview              4806 non-null   object \n",
            " 8   popularity            4809 non-null   float64\n",
            " 9   production_companies  4809 non-null   object \n",
            " 10  production_countries  4809 non-null   object \n",
            " 11  release_date          4808 non-null   object \n",
            " 12  revenue               4809 non-null   int64  \n",
            " 13  runtime               4807 non-null   float64\n",
            " 14  spoken_languages      4809 non-null   object \n",
            " 15  status                4809 non-null   object \n",
            " 16  tagline               3965 non-null   object \n",
            " 17  title                 4809 non-null   object \n",
            " 18  vote_average          4809 non-null   float64\n",
            " 19  vote_count            4809 non-null   int64  \n",
            " 20  movie_id              4809 non-null   int64  \n",
            " 21  cast                  4809 non-null   object \n",
            " 22  crew                  4809 non-null   object \n",
            "dtypes: float64(3), int64(5), object(15)\n",
            "memory usage: 901.7+ KB\n"
          ]
        }
      ]
    },
    {
      "cell_type": "code",
      "source": [
        "import ast\n",
        "def str_list(x):\n",
        "  x=ast.literal_eval(x)\n",
        "  l=[]\n",
        "  for item in x:\n",
        "\n",
        "    l.append(item['name'])\n",
        "  \n",
        "  return l\n",
        "    \n"
      ],
      "metadata": {
        "id": "uxIa48uEvSuv"
      },
      "execution_count": null,
      "outputs": []
    },
    {
      "cell_type": "code",
      "source": [
        "movies[\"cast\"]=movies[\"cast\"].apply(str_list)"
      ],
      "metadata": {
        "id": "zKgkeEMzvW8H"
      },
      "execution_count": null,
      "outputs": []
    },
    {
      "cell_type": "code",
      "source": [
        "\n",
        "import ast\n",
        "def str2_list(x):\n",
        "  x=ast.literal_eval(x)\n",
        "  l=[]\n",
        "  for item in x:\n",
        "    if item['job']==\"Director\":\n",
        "      l.append(item['name'])\n",
        "  \n",
        "  return l"
      ],
      "metadata": {
        "id": "dk5zsInfvpZ9"
      },
      "execution_count": null,
      "outputs": []
    },
    {
      "cell_type": "code",
      "source": [
        "movies[\"crew\"]=movies[\"crew\"].apply(str2_list)\n",
        "     "
      ],
      "metadata": {
        "id": "l8XZoQLQvsp5"
      },
      "execution_count": null,
      "outputs": []
    },
    {
      "cell_type": "code",
      "source": [
        "\n",
        "movies[\"cast\"]"
      ],
      "metadata": {
        "colab": {
          "base_uri": "https://localhost:8080/"
        },
        "id": "8icQ71DVvyUs",
        "outputId": "cdbc22a3-50f3-4e50-9e0b-39d266bfb95a"
      },
      "execution_count": null,
      "outputs": [
        {
          "output_type": "execute_result",
          "data": {
            "text/plain": [
              "0       [Sam Worthington, Zoe Saldana, Sigourney Weave...\n",
              "1       [Johnny Depp, Orlando Bloom, Keira Knightley, ...\n",
              "2       [Daniel Craig, Christoph Waltz, Léa Seydoux, R...\n",
              "3       [Christian Bale, Michael Caine, Gary Oldman, A...\n",
              "4       [Taylor Kitsch, Lynn Collins, Samantha Morton,...\n",
              "                              ...                        \n",
              "4804    [Carlos Gallardo, Jaime de Hoyos, Peter Marqua...\n",
              "4805    [Edward Burns, Kerry Bishé, Marsha Dietlein, C...\n",
              "4806    [Eric Mabius, Kristin Booth, Crystal Lowe, Geo...\n",
              "4807    [Daniel Henney, Eliza Coupe, Bill Paxton, Alan...\n",
              "4808    [Drew Barrymore, Brian Herzlinger, Corey Feldm...\n",
              "Name: cast, Length: 4809, dtype: object"
            ]
          },
          "metadata": {},
          "execution_count": 29
        }
      ]
    },
    {
      "cell_type": "code",
      "source": [
        "movies[\"crew\"]"
      ],
      "metadata": {
        "colab": {
          "base_uri": "https://localhost:8080/"
        },
        "id": "MomCC99Gv4tA",
        "outputId": "576d246d-f85b-460a-8c76-49d59da461b0"
      },
      "execution_count": null,
      "outputs": [
        {
          "output_type": "execute_result",
          "data": {
            "text/plain": [
              "0                                [James Cameron]\n",
              "1                               [Gore Verbinski]\n",
              "2                                   [Sam Mendes]\n",
              "3                            [Christopher Nolan]\n",
              "4                               [Andrew Stanton]\n",
              "                          ...                   \n",
              "4804                          [Robert Rodriguez]\n",
              "4805                              [Edward Burns]\n",
              "4806                               [Scott Smith]\n",
              "4807                               [Daniel Hsia]\n",
              "4808    [Brian Herzlinger, Jon Gunn, Brett Winn]\n",
              "Name: crew, Length: 4809, dtype: object"
            ]
          },
          "metadata": {},
          "execution_count": 30
        }
      ]
    },
    {
      "cell_type": "code",
      "source": [
        "\n",
        "movies[\"genres\"]=movies['genres'].apply(str_list)\n",
        "movies[\"keywords\"]=movies['keywords'].apply(str_list)"
      ],
      "metadata": {
        "id": "Ii8agVdBv9TX"
      },
      "execution_count": null,
      "outputs": []
    },
    {
      "cell_type": "code",
      "source": [
        "\n",
        "movies.isna().sum()"
      ],
      "metadata": {
        "colab": {
          "base_uri": "https://localhost:8080/"
        },
        "id": "M1vmSjUOv-zq",
        "outputId": "33c7fb88-0c01-48cb-f489-01231d1dc558"
      },
      "execution_count": null,
      "outputs": [
        {
          "output_type": "execute_result",
          "data": {
            "text/plain": [
              "budget                     0\n",
              "genres                     0\n",
              "homepage                3096\n",
              "id                         0\n",
              "keywords                   0\n",
              "original_language          0\n",
              "original_title             0\n",
              "overview                   3\n",
              "popularity                 0\n",
              "production_companies       0\n",
              "production_countries       0\n",
              "release_date               1\n",
              "revenue                    0\n",
              "runtime                    2\n",
              "spoken_languages           0\n",
              "status                     0\n",
              "tagline                  844\n",
              "title                      0\n",
              "vote_average               0\n",
              "vote_count                 0\n",
              "movie_id                   0\n",
              "cast                       0\n",
              "crew                       0\n",
              "dtype: int64"
            ]
          },
          "metadata": {},
          "execution_count": 32
        }
      ]
    },
    {
      "cell_type": "code",
      "source": [
        "\n",
        "movies.sample(5)"
      ],
      "metadata": {
        "colab": {
          "base_uri": "https://localhost:8080/",
          "height": 786
        },
        "id": "ni3ooIg0wDiq",
        "outputId": "a764fbb1-360e-421d-d475-abaf55fe4542"
      },
      "execution_count": null,
      "outputs": [
        {
          "output_type": "execute_result",
          "data": {
            "text/plain": [
              "         budget                                           genres  \\\n",
              "4066          0                       [Comedy, Romance, Foreign]   \n",
              "86    165000000  [Comedy, Adventure, Fantasy, Animation, Family]   \n",
              "2861   12000000                         [Comedy, Drama, Romance]   \n",
              "3212   86000000                       [Thriller, Crime, Mystery]   \n",
              "4585     400000                     [Adventure, Comedy, Fantasy]   \n",
              "\n",
              "                                           homepage     id  \\\n",
              "4066                                            NaN  31163   \n",
              "86                http://www.shrekforeverafter.com/  10192   \n",
              "2861                                            NaN  46889   \n",
              "3212                                            NaN  13483   \n",
              "4585  http://www.sonypictures.com/cthe/montypython/    762   \n",
              "\n",
              "                                               keywords original_language  \\\n",
              "4066  [coming out, arranged marriage, gay relationship]                en   \n",
              "86                                           [ogre, 3d]                en   \n",
              "2861  [female protagonist, relationship, divorce, br...                en   \n",
              "3212                                                 []                en   \n",
              "4585  [holy grail, monk, scotland yard, swordplay, c...                en   \n",
              "\n",
              "                       original_title  \\\n",
              "4066             Chicken Tikka Masala   \n",
              "86                Shrek Forever After   \n",
              "2861                  Living Out Loud   \n",
              "3212                            Awake   \n",
              "4585  Monty Python and the Holy Grail   \n",
              "\n",
              "                                               overview  popularity  \\\n",
              "4066  Jimi (Chris Bisson), the Chopra family's only ...    0.258413   \n",
              "86    A bored and domesticated Shrek pacts with deal...   44.041186   \n",
              "2861  Dramatic comedy about two unlikely people who ...    0.700792   \n",
              "3212  While undergoing heart surgery, a man experien...   18.172736   \n",
              "4585  King Arthur, accompanied by his squire, recrui...   64.782984   \n",
              "\n",
              "                                   production_companies  ... runtime  \\\n",
              "4066                                                 []  ...    90.0   \n",
              "86        [{\"name\": \"DreamWorks Animation\", \"id\": 521}]  ...    93.0   \n",
              "2861  [{\"name\": \"New Line Cinema\", \"id\": 12}, {\"name...  ...   100.0   \n",
              "3212  [{\"name\": \"The Weinstein Company\", \"id\": 308},...  ...    84.0   \n",
              "4585  [{\"name\": \"Python (Monty) Pictures Limited\", \"...  ...    91.0   \n",
              "\n",
              "                                       spoken_languages    status  \\\n",
              "4066           [{\"iso_639_1\": \"en\", \"name\": \"English\"}]  Released   \n",
              "86             [{\"iso_639_1\": \"en\", \"name\": \"English\"}]  Released   \n",
              "2861           [{\"iso_639_1\": \"en\", \"name\": \"English\"}]  Released   \n",
              "3212  [{\"iso_639_1\": \"ja\", \"name\": \"\\u65e5\\u672c\\u8a...  Released   \n",
              "4585  [{\"iso_639_1\": \"fr\", \"name\": \"Fran\\u00e7ais\"},...  Released   \n",
              "\n",
              "                                                tagline  \\\n",
              "4066                                                NaN   \n",
              "86                       It ain't Ogre... Til it's Ogre   \n",
              "2861                                                NaN   \n",
              "3212  Every year, one in 700 people wake up during s...   \n",
              "4585  And now! At Last! Another film completely diff...   \n",
              "\n",
              "                                title vote_average vote_count movie_id  \\\n",
              "4066             Chicken Tikka Masala          3.5          5    31163   \n",
              "86                Shrek Forever After          6.0       1959    10192   \n",
              "2861                  Living Out Loud          5.3         11    46889   \n",
              "3212                            Awake          6.3        395    13483   \n",
              "4585  Monty Python and the Holy Grail          7.8       1708      762   \n",
              "\n",
              "                                                   cast  \\\n",
              "4066  [Chris Bisson, Saeed Jaffrey, Sally Bankes, Pe...   \n",
              "86    [Mike Myers, Eddie Murphy, Cameron Diaz, Anton...   \n",
              "2861  [Holly Hunter, Danny DeVito, Queen Latifah, Ma...   \n",
              "3212  [Hayden Christensen, Jessica Alba, Terrence Ho...   \n",
              "4585  [Graham Chapman, John Cleese, Terry Gilliam, E...   \n",
              "\n",
              "                              crew  \n",
              "4066       [Harmage Singh Kalirai]  \n",
              "86                 [Mike Mitchell]  \n",
              "2861         [Richard LaGravenese]  \n",
              "3212                 [Joby Harold]  \n",
              "4585  [Terry Gilliam, Terry Jones]  \n",
              "\n",
              "[5 rows x 23 columns]"
            ],
            "text/html": [
              "\n",
              "  <div id=\"df-bdc36be1-58e4-474a-867e-a9dcdfd69021\">\n",
              "    <div class=\"colab-df-container\">\n",
              "      <div>\n",
              "<style scoped>\n",
              "    .dataframe tbody tr th:only-of-type {\n",
              "        vertical-align: middle;\n",
              "    }\n",
              "\n",
              "    .dataframe tbody tr th {\n",
              "        vertical-align: top;\n",
              "    }\n",
              "\n",
              "    .dataframe thead th {\n",
              "        text-align: right;\n",
              "    }\n",
              "</style>\n",
              "<table border=\"1\" class=\"dataframe\">\n",
              "  <thead>\n",
              "    <tr style=\"text-align: right;\">\n",
              "      <th></th>\n",
              "      <th>budget</th>\n",
              "      <th>genres</th>\n",
              "      <th>homepage</th>\n",
              "      <th>id</th>\n",
              "      <th>keywords</th>\n",
              "      <th>original_language</th>\n",
              "      <th>original_title</th>\n",
              "      <th>overview</th>\n",
              "      <th>popularity</th>\n",
              "      <th>production_companies</th>\n",
              "      <th>...</th>\n",
              "      <th>runtime</th>\n",
              "      <th>spoken_languages</th>\n",
              "      <th>status</th>\n",
              "      <th>tagline</th>\n",
              "      <th>title</th>\n",
              "      <th>vote_average</th>\n",
              "      <th>vote_count</th>\n",
              "      <th>movie_id</th>\n",
              "      <th>cast</th>\n",
              "      <th>crew</th>\n",
              "    </tr>\n",
              "  </thead>\n",
              "  <tbody>\n",
              "    <tr>\n",
              "      <th>4066</th>\n",
              "      <td>0</td>\n",
              "      <td>[Comedy, Romance, Foreign]</td>\n",
              "      <td>NaN</td>\n",
              "      <td>31163</td>\n",
              "      <td>[coming out, arranged marriage, gay relationship]</td>\n",
              "      <td>en</td>\n",
              "      <td>Chicken Tikka Masala</td>\n",
              "      <td>Jimi (Chris Bisson), the Chopra family's only ...</td>\n",
              "      <td>0.258413</td>\n",
              "      <td>[]</td>\n",
              "      <td>...</td>\n",
              "      <td>90.0</td>\n",
              "      <td>[{\"iso_639_1\": \"en\", \"name\": \"English\"}]</td>\n",
              "      <td>Released</td>\n",
              "      <td>NaN</td>\n",
              "      <td>Chicken Tikka Masala</td>\n",
              "      <td>3.5</td>\n",
              "      <td>5</td>\n",
              "      <td>31163</td>\n",
              "      <td>[Chris Bisson, Saeed Jaffrey, Sally Bankes, Pe...</td>\n",
              "      <td>[Harmage Singh Kalirai]</td>\n",
              "    </tr>\n",
              "    <tr>\n",
              "      <th>86</th>\n",
              "      <td>165000000</td>\n",
              "      <td>[Comedy, Adventure, Fantasy, Animation, Family]</td>\n",
              "      <td>http://www.shrekforeverafter.com/</td>\n",
              "      <td>10192</td>\n",
              "      <td>[ogre, 3d]</td>\n",
              "      <td>en</td>\n",
              "      <td>Shrek Forever After</td>\n",
              "      <td>A bored and domesticated Shrek pacts with deal...</td>\n",
              "      <td>44.041186</td>\n",
              "      <td>[{\"name\": \"DreamWorks Animation\", \"id\": 521}]</td>\n",
              "      <td>...</td>\n",
              "      <td>93.0</td>\n",
              "      <td>[{\"iso_639_1\": \"en\", \"name\": \"English\"}]</td>\n",
              "      <td>Released</td>\n",
              "      <td>It ain't Ogre... Til it's Ogre</td>\n",
              "      <td>Shrek Forever After</td>\n",
              "      <td>6.0</td>\n",
              "      <td>1959</td>\n",
              "      <td>10192</td>\n",
              "      <td>[Mike Myers, Eddie Murphy, Cameron Diaz, Anton...</td>\n",
              "      <td>[Mike Mitchell]</td>\n",
              "    </tr>\n",
              "    <tr>\n",
              "      <th>2861</th>\n",
              "      <td>12000000</td>\n",
              "      <td>[Comedy, Drama, Romance]</td>\n",
              "      <td>NaN</td>\n",
              "      <td>46889</td>\n",
              "      <td>[female protagonist, relationship, divorce, br...</td>\n",
              "      <td>en</td>\n",
              "      <td>Living Out Loud</td>\n",
              "      <td>Dramatic comedy about two unlikely people who ...</td>\n",
              "      <td>0.700792</td>\n",
              "      <td>[{\"name\": \"New Line Cinema\", \"id\": 12}, {\"name...</td>\n",
              "      <td>...</td>\n",
              "      <td>100.0</td>\n",
              "      <td>[{\"iso_639_1\": \"en\", \"name\": \"English\"}]</td>\n",
              "      <td>Released</td>\n",
              "      <td>NaN</td>\n",
              "      <td>Living Out Loud</td>\n",
              "      <td>5.3</td>\n",
              "      <td>11</td>\n",
              "      <td>46889</td>\n",
              "      <td>[Holly Hunter, Danny DeVito, Queen Latifah, Ma...</td>\n",
              "      <td>[Richard LaGravenese]</td>\n",
              "    </tr>\n",
              "    <tr>\n",
              "      <th>3212</th>\n",
              "      <td>86000000</td>\n",
              "      <td>[Thriller, Crime, Mystery]</td>\n",
              "      <td>NaN</td>\n",
              "      <td>13483</td>\n",
              "      <td>[]</td>\n",
              "      <td>en</td>\n",
              "      <td>Awake</td>\n",
              "      <td>While undergoing heart surgery, a man experien...</td>\n",
              "      <td>18.172736</td>\n",
              "      <td>[{\"name\": \"The Weinstein Company\", \"id\": 308},...</td>\n",
              "      <td>...</td>\n",
              "      <td>84.0</td>\n",
              "      <td>[{\"iso_639_1\": \"ja\", \"name\": \"\\u65e5\\u672c\\u8a...</td>\n",
              "      <td>Released</td>\n",
              "      <td>Every year, one in 700 people wake up during s...</td>\n",
              "      <td>Awake</td>\n",
              "      <td>6.3</td>\n",
              "      <td>395</td>\n",
              "      <td>13483</td>\n",
              "      <td>[Hayden Christensen, Jessica Alba, Terrence Ho...</td>\n",
              "      <td>[Joby Harold]</td>\n",
              "    </tr>\n",
              "    <tr>\n",
              "      <th>4585</th>\n",
              "      <td>400000</td>\n",
              "      <td>[Adventure, Comedy, Fantasy]</td>\n",
              "      <td>http://www.sonypictures.com/cthe/montypython/</td>\n",
              "      <td>762</td>\n",
              "      <td>[holy grail, monk, scotland yard, swordplay, c...</td>\n",
              "      <td>en</td>\n",
              "      <td>Monty Python and the Holy Grail</td>\n",
              "      <td>King Arthur, accompanied by his squire, recrui...</td>\n",
              "      <td>64.782984</td>\n",
              "      <td>[{\"name\": \"Python (Monty) Pictures Limited\", \"...</td>\n",
              "      <td>...</td>\n",
              "      <td>91.0</td>\n",
              "      <td>[{\"iso_639_1\": \"fr\", \"name\": \"Fran\\u00e7ais\"},...</td>\n",
              "      <td>Released</td>\n",
              "      <td>And now! At Last! Another film completely diff...</td>\n",
              "      <td>Monty Python and the Holy Grail</td>\n",
              "      <td>7.8</td>\n",
              "      <td>1708</td>\n",
              "      <td>762</td>\n",
              "      <td>[Graham Chapman, John Cleese, Terry Gilliam, E...</td>\n",
              "      <td>[Terry Gilliam, Terry Jones]</td>\n",
              "    </tr>\n",
              "  </tbody>\n",
              "</table>\n",
              "<p>5 rows × 23 columns</p>\n",
              "</div>\n",
              "      <button class=\"colab-df-convert\" onclick=\"convertToInteractive('df-bdc36be1-58e4-474a-867e-a9dcdfd69021')\"\n",
              "              title=\"Convert this dataframe to an interactive table.\"\n",
              "              style=\"display:none;\">\n",
              "        \n",
              "  <svg xmlns=\"http://www.w3.org/2000/svg\" height=\"24px\"viewBox=\"0 0 24 24\"\n",
              "       width=\"24px\">\n",
              "    <path d=\"M0 0h24v24H0V0z\" fill=\"none\"/>\n",
              "    <path d=\"M18.56 5.44l.94 2.06.94-2.06 2.06-.94-2.06-.94-.94-2.06-.94 2.06-2.06.94zm-11 1L8.5 8.5l.94-2.06 2.06-.94-2.06-.94L8.5 2.5l-.94 2.06-2.06.94zm10 10l.94 2.06.94-2.06 2.06-.94-2.06-.94-.94-2.06-.94 2.06-2.06.94z\"/><path d=\"M17.41 7.96l-1.37-1.37c-.4-.4-.92-.59-1.43-.59-.52 0-1.04.2-1.43.59L10.3 9.45l-7.72 7.72c-.78.78-.78 2.05 0 2.83L4 21.41c.39.39.9.59 1.41.59.51 0 1.02-.2 1.41-.59l7.78-7.78 2.81-2.81c.8-.78.8-2.07 0-2.86zM5.41 20L4 18.59l7.72-7.72 1.47 1.35L5.41 20z\"/>\n",
              "  </svg>\n",
              "      </button>\n",
              "      \n",
              "  <style>\n",
              "    .colab-df-container {\n",
              "      display:flex;\n",
              "      flex-wrap:wrap;\n",
              "      gap: 12px;\n",
              "    }\n",
              "\n",
              "    .colab-df-convert {\n",
              "      background-color: #E8F0FE;\n",
              "      border: none;\n",
              "      border-radius: 50%;\n",
              "      cursor: pointer;\n",
              "      display: none;\n",
              "      fill: #1967D2;\n",
              "      height: 32px;\n",
              "      padding: 0 0 0 0;\n",
              "      width: 32px;\n",
              "    }\n",
              "\n",
              "    .colab-df-convert:hover {\n",
              "      background-color: #E2EBFA;\n",
              "      box-shadow: 0px 1px 2px rgba(60, 64, 67, 0.3), 0px 1px 3px 1px rgba(60, 64, 67, 0.15);\n",
              "      fill: #174EA6;\n",
              "    }\n",
              "\n",
              "    [theme=dark] .colab-df-convert {\n",
              "      background-color: #3B4455;\n",
              "      fill: #D2E3FC;\n",
              "    }\n",
              "\n",
              "    [theme=dark] .colab-df-convert:hover {\n",
              "      background-color: #434B5C;\n",
              "      box-shadow: 0px 1px 3px 1px rgba(0, 0, 0, 0.15);\n",
              "      filter: drop-shadow(0px 1px 2px rgba(0, 0, 0, 0.3));\n",
              "      fill: #FFFFFF;\n",
              "    }\n",
              "  </style>\n",
              "\n",
              "      <script>\n",
              "        const buttonEl =\n",
              "          document.querySelector('#df-bdc36be1-58e4-474a-867e-a9dcdfd69021 button.colab-df-convert');\n",
              "        buttonEl.style.display =\n",
              "          google.colab.kernel.accessAllowed ? 'block' : 'none';\n",
              "\n",
              "        async function convertToInteractive(key) {\n",
              "          const element = document.querySelector('#df-bdc36be1-58e4-474a-867e-a9dcdfd69021');\n",
              "          const dataTable =\n",
              "            await google.colab.kernel.invokeFunction('convertToInteractive',\n",
              "                                                     [key], {});\n",
              "          if (!dataTable) return;\n",
              "\n",
              "          const docLinkHtml = 'Like what you see? Visit the ' +\n",
              "            '<a target=\"_blank\" href=https://colab.research.google.com/notebooks/data_table.ipynb>data table notebook</a>'\n",
              "            + ' to learn more about interactive tables.';\n",
              "          element.innerHTML = '';\n",
              "          dataTable['output_type'] = 'display_data';\n",
              "          await google.colab.output.renderOutput(dataTable, element);\n",
              "          const docLink = document.createElement('div');\n",
              "          docLink.innerHTML = docLinkHtml;\n",
              "          element.appendChild(docLink);\n",
              "        }\n",
              "      </script>\n",
              "    </div>\n",
              "  </div>\n",
              "  "
            ]
          },
          "metadata": {},
          "execution_count": 33
        }
      ]
    },
    {
      "cell_type": "code",
      "source": [
        "\n",
        "# removing space \n",
        "def _join(x):\n",
        "  l=[]\n",
        "  for i in x:\n",
        "    l.append(i.replace(\" \",\"\"))\n",
        "  return l"
      ],
      "metadata": {
        "id": "YgP6xNgrwHST"
      },
      "execution_count": null,
      "outputs": []
    },
    {
      "cell_type": "code",
      "source": [
        "\n",
        "movies[\"cast\"]=movies[\"cast\"].apply(_join)"
      ],
      "metadata": {
        "id": "4aCmjZ9ywMbW"
      },
      "execution_count": null,
      "outputs": []
    },
    {
      "cell_type": "code",
      "source": [
        "\n",
        "movies[\"cast\"]=movies[\"cast\"].apply(lambda i:i[0:3])"
      ],
      "metadata": {
        "id": "MXG-DHdcwPqJ"
      },
      "execution_count": null,
      "outputs": []
    },
    {
      "cell_type": "code",
      "source": [
        "movies[\"cast\"]"
      ],
      "metadata": {
        "colab": {
          "base_uri": "https://localhost:8080/"
        },
        "id": "xzWv4q5lwUT2",
        "outputId": "c8b034c4-f8fe-4289-fd87-343b06c6f5d4"
      },
      "execution_count": null,
      "outputs": [
        {
          "output_type": "execute_result",
          "data": {
            "text/plain": [
              "0        [SamWorthington, ZoeSaldana, SigourneyWeaver]\n",
              "1           [JohnnyDepp, OrlandoBloom, KeiraKnightley]\n",
              "2            [DanielCraig, ChristophWaltz, LéaSeydoux]\n",
              "3            [ChristianBale, MichaelCaine, GaryOldman]\n",
              "4          [TaylorKitsch, LynnCollins, SamanthaMorton]\n",
              "                             ...                      \n",
              "4804    [CarlosGallardo, JaimedeHoyos, PeterMarquardt]\n",
              "4805         [EdwardBurns, KerryBishé, MarshaDietlein]\n",
              "4806           [EricMabius, KristinBooth, CrystalLowe]\n",
              "4807            [DanielHenney, ElizaCoupe, BillPaxton]\n",
              "4808    [DrewBarrymore, BrianHerzlinger, CoreyFeldman]\n",
              "Name: cast, Length: 4809, dtype: object"
            ]
          },
          "metadata": {},
          "execution_count": 37
        }
      ]
    },
    {
      "cell_type": "code",
      "source": [
        "new_df=pd.DataFrame(movies,columns=['id','homepage','title','cast','crew','overview','genres','keywords'])"
      ],
      "metadata": {
        "id": "JB3zLahtwZKk"
      },
      "execution_count": null,
      "outputs": []
    },
    {
      "cell_type": "code",
      "source": [
        "new_df.head(5)"
      ],
      "metadata": {
        "colab": {
          "base_uri": "https://localhost:8080/",
          "height": 719
        },
        "id": "OsLphVfswagy",
        "outputId": "86644c22-87f5-475f-d194-b6de3de4fae6"
      },
      "execution_count": null,
      "outputs": [
        {
          "output_type": "execute_result",
          "data": {
            "text/plain": [
              "       id                                      homepage  \\\n",
              "0   19995                   http://www.avatarmovie.com/   \n",
              "1     285  http://disney.go.com/disneypictures/pirates/   \n",
              "2  206647   http://www.sonypictures.com/movies/spectre/   \n",
              "3   49026            http://www.thedarkknightrises.com/   \n",
              "4   49529          http://movies.disney.com/john-carter   \n",
              "\n",
              "                                      title  \\\n",
              "0                                    Avatar   \n",
              "1  Pirates of the Caribbean: At World's End   \n",
              "2                                   Spectre   \n",
              "3                     The Dark Knight Rises   \n",
              "4                               John Carter   \n",
              "\n",
              "                                            cast                 crew  \\\n",
              "0  [SamWorthington, ZoeSaldana, SigourneyWeaver]      [James Cameron]   \n",
              "1     [JohnnyDepp, OrlandoBloom, KeiraKnightley]     [Gore Verbinski]   \n",
              "2      [DanielCraig, ChristophWaltz, LéaSeydoux]         [Sam Mendes]   \n",
              "3      [ChristianBale, MichaelCaine, GaryOldman]  [Christopher Nolan]   \n",
              "4    [TaylorKitsch, LynnCollins, SamanthaMorton]     [Andrew Stanton]   \n",
              "\n",
              "                                            overview  \\\n",
              "0  In the 22nd century, a paraplegic Marine is di...   \n",
              "1  Captain Barbossa, long believed to be dead, ha...   \n",
              "2  A cryptic message from Bond’s past sends him o...   \n",
              "3  Following the death of District Attorney Harve...   \n",
              "4  John Carter is a war-weary, former military ca...   \n",
              "\n",
              "                                          genres  \\\n",
              "0  [Action, Adventure, Fantasy, Science Fiction]   \n",
              "1                   [Adventure, Fantasy, Action]   \n",
              "2                     [Action, Adventure, Crime]   \n",
              "3               [Action, Crime, Drama, Thriller]   \n",
              "4           [Action, Adventure, Science Fiction]   \n",
              "\n",
              "                                            keywords  \n",
              "0  [culture clash, future, space war, space colon...  \n",
              "1  [ocean, drug abuse, exotic island, east india ...  \n",
              "2  [spy, based on novel, secret agent, sequel, mi...  \n",
              "3  [dc comics, crime fighter, terrorist, secret i...  \n",
              "4  [based on novel, mars, medallion, space travel...  "
            ],
            "text/html": [
              "\n",
              "  <div id=\"df-e857a15c-aa0e-4d27-82d0-49dfe029e678\">\n",
              "    <div class=\"colab-df-container\">\n",
              "      <div>\n",
              "<style scoped>\n",
              "    .dataframe tbody tr th:only-of-type {\n",
              "        vertical-align: middle;\n",
              "    }\n",
              "\n",
              "    .dataframe tbody tr th {\n",
              "        vertical-align: top;\n",
              "    }\n",
              "\n",
              "    .dataframe thead th {\n",
              "        text-align: right;\n",
              "    }\n",
              "</style>\n",
              "<table border=\"1\" class=\"dataframe\">\n",
              "  <thead>\n",
              "    <tr style=\"text-align: right;\">\n",
              "      <th></th>\n",
              "      <th>id</th>\n",
              "      <th>homepage</th>\n",
              "      <th>title</th>\n",
              "      <th>cast</th>\n",
              "      <th>crew</th>\n",
              "      <th>overview</th>\n",
              "      <th>genres</th>\n",
              "      <th>keywords</th>\n",
              "    </tr>\n",
              "  </thead>\n",
              "  <tbody>\n",
              "    <tr>\n",
              "      <th>0</th>\n",
              "      <td>19995</td>\n",
              "      <td>http://www.avatarmovie.com/</td>\n",
              "      <td>Avatar</td>\n",
              "      <td>[SamWorthington, ZoeSaldana, SigourneyWeaver]</td>\n",
              "      <td>[James Cameron]</td>\n",
              "      <td>In the 22nd century, a paraplegic Marine is di...</td>\n",
              "      <td>[Action, Adventure, Fantasy, Science Fiction]</td>\n",
              "      <td>[culture clash, future, space war, space colon...</td>\n",
              "    </tr>\n",
              "    <tr>\n",
              "      <th>1</th>\n",
              "      <td>285</td>\n",
              "      <td>http://disney.go.com/disneypictures/pirates/</td>\n",
              "      <td>Pirates of the Caribbean: At World's End</td>\n",
              "      <td>[JohnnyDepp, OrlandoBloom, KeiraKnightley]</td>\n",
              "      <td>[Gore Verbinski]</td>\n",
              "      <td>Captain Barbossa, long believed to be dead, ha...</td>\n",
              "      <td>[Adventure, Fantasy, Action]</td>\n",
              "      <td>[ocean, drug abuse, exotic island, east india ...</td>\n",
              "    </tr>\n",
              "    <tr>\n",
              "      <th>2</th>\n",
              "      <td>206647</td>\n",
              "      <td>http://www.sonypictures.com/movies/spectre/</td>\n",
              "      <td>Spectre</td>\n",
              "      <td>[DanielCraig, ChristophWaltz, LéaSeydoux]</td>\n",
              "      <td>[Sam Mendes]</td>\n",
              "      <td>A cryptic message from Bond’s past sends him o...</td>\n",
              "      <td>[Action, Adventure, Crime]</td>\n",
              "      <td>[spy, based on novel, secret agent, sequel, mi...</td>\n",
              "    </tr>\n",
              "    <tr>\n",
              "      <th>3</th>\n",
              "      <td>49026</td>\n",
              "      <td>http://www.thedarkknightrises.com/</td>\n",
              "      <td>The Dark Knight Rises</td>\n",
              "      <td>[ChristianBale, MichaelCaine, GaryOldman]</td>\n",
              "      <td>[Christopher Nolan]</td>\n",
              "      <td>Following the death of District Attorney Harve...</td>\n",
              "      <td>[Action, Crime, Drama, Thriller]</td>\n",
              "      <td>[dc comics, crime fighter, terrorist, secret i...</td>\n",
              "    </tr>\n",
              "    <tr>\n",
              "      <th>4</th>\n",
              "      <td>49529</td>\n",
              "      <td>http://movies.disney.com/john-carter</td>\n",
              "      <td>John Carter</td>\n",
              "      <td>[TaylorKitsch, LynnCollins, SamanthaMorton]</td>\n",
              "      <td>[Andrew Stanton]</td>\n",
              "      <td>John Carter is a war-weary, former military ca...</td>\n",
              "      <td>[Action, Adventure, Science Fiction]</td>\n",
              "      <td>[based on novel, mars, medallion, space travel...</td>\n",
              "    </tr>\n",
              "  </tbody>\n",
              "</table>\n",
              "</div>\n",
              "      <button class=\"colab-df-convert\" onclick=\"convertToInteractive('df-e857a15c-aa0e-4d27-82d0-49dfe029e678')\"\n",
              "              title=\"Convert this dataframe to an interactive table.\"\n",
              "              style=\"display:none;\">\n",
              "        \n",
              "  <svg xmlns=\"http://www.w3.org/2000/svg\" height=\"24px\"viewBox=\"0 0 24 24\"\n",
              "       width=\"24px\">\n",
              "    <path d=\"M0 0h24v24H0V0z\" fill=\"none\"/>\n",
              "    <path d=\"M18.56 5.44l.94 2.06.94-2.06 2.06-.94-2.06-.94-.94-2.06-.94 2.06-2.06.94zm-11 1L8.5 8.5l.94-2.06 2.06-.94-2.06-.94L8.5 2.5l-.94 2.06-2.06.94zm10 10l.94 2.06.94-2.06 2.06-.94-2.06-.94-.94-2.06-.94 2.06-2.06.94z\"/><path d=\"M17.41 7.96l-1.37-1.37c-.4-.4-.92-.59-1.43-.59-.52 0-1.04.2-1.43.59L10.3 9.45l-7.72 7.72c-.78.78-.78 2.05 0 2.83L4 21.41c.39.39.9.59 1.41.59.51 0 1.02-.2 1.41-.59l7.78-7.78 2.81-2.81c.8-.78.8-2.07 0-2.86zM5.41 20L4 18.59l7.72-7.72 1.47 1.35L5.41 20z\"/>\n",
              "  </svg>\n",
              "      </button>\n",
              "      \n",
              "  <style>\n",
              "    .colab-df-container {\n",
              "      display:flex;\n",
              "      flex-wrap:wrap;\n",
              "      gap: 12px;\n",
              "    }\n",
              "\n",
              "    .colab-df-convert {\n",
              "      background-color: #E8F0FE;\n",
              "      border: none;\n",
              "      border-radius: 50%;\n",
              "      cursor: pointer;\n",
              "      display: none;\n",
              "      fill: #1967D2;\n",
              "      height: 32px;\n",
              "      padding: 0 0 0 0;\n",
              "      width: 32px;\n",
              "    }\n",
              "\n",
              "    .colab-df-convert:hover {\n",
              "      background-color: #E2EBFA;\n",
              "      box-shadow: 0px 1px 2px rgba(60, 64, 67, 0.3), 0px 1px 3px 1px rgba(60, 64, 67, 0.15);\n",
              "      fill: #174EA6;\n",
              "    }\n",
              "\n",
              "    [theme=dark] .colab-df-convert {\n",
              "      background-color: #3B4455;\n",
              "      fill: #D2E3FC;\n",
              "    }\n",
              "\n",
              "    [theme=dark] .colab-df-convert:hover {\n",
              "      background-color: #434B5C;\n",
              "      box-shadow: 0px 1px 3px 1px rgba(0, 0, 0, 0.15);\n",
              "      filter: drop-shadow(0px 1px 2px rgba(0, 0, 0, 0.3));\n",
              "      fill: #FFFFFF;\n",
              "    }\n",
              "  </style>\n",
              "\n",
              "      <script>\n",
              "        const buttonEl =\n",
              "          document.querySelector('#df-e857a15c-aa0e-4d27-82d0-49dfe029e678 button.colab-df-convert');\n",
              "        buttonEl.style.display =\n",
              "          google.colab.kernel.accessAllowed ? 'block' : 'none';\n",
              "\n",
              "        async function convertToInteractive(key) {\n",
              "          const element = document.querySelector('#df-e857a15c-aa0e-4d27-82d0-49dfe029e678');\n",
              "          const dataTable =\n",
              "            await google.colab.kernel.invokeFunction('convertToInteractive',\n",
              "                                                     [key], {});\n",
              "          if (!dataTable) return;\n",
              "\n",
              "          const docLinkHtml = 'Like what you see? Visit the ' +\n",
              "            '<a target=\"_blank\" href=https://colab.research.google.com/notebooks/data_table.ipynb>data table notebook</a>'\n",
              "            + ' to learn more about interactive tables.';\n",
              "          element.innerHTML = '';\n",
              "          dataTable['output_type'] = 'display_data';\n",
              "          await google.colab.output.renderOutput(dataTable, element);\n",
              "          const docLink = document.createElement('div');\n",
              "          docLink.innerHTML = docLinkHtml;\n",
              "          element.appendChild(docLink);\n",
              "        }\n",
              "      </script>\n",
              "    </div>\n",
              "  </div>\n",
              "  "
            ]
          },
          "metadata": {},
          "execution_count": 39
        }
      ]
    },
    {
      "cell_type": "code",
      "source": [
        "\n",
        "new_df['crew']=new_df['crew'].apply(_join)"
      ],
      "metadata": {
        "id": "_Jg8LzhmwdvS"
      },
      "execution_count": null,
      "outputs": []
    },
    {
      "cell_type": "code",
      "source": [
        "\n",
        "new_df.head()"
      ],
      "metadata": {
        "colab": {
          "base_uri": "https://localhost:8080/",
          "height": 774
        },
        "id": "vTEAlsWVwhRJ",
        "outputId": "8979e123-5767-4cb1-8199-0fb3ab56822b"
      },
      "execution_count": null,
      "outputs": [
        {
          "output_type": "execute_result",
          "data": {
            "text/plain": [
              "       id                                      homepage  \\\n",
              "0   19995                   http://www.avatarmovie.com/   \n",
              "1     285  http://disney.go.com/disneypictures/pirates/   \n",
              "2  206647   http://www.sonypictures.com/movies/spectre/   \n",
              "3   49026            http://www.thedarkknightrises.com/   \n",
              "4   49529          http://movies.disney.com/john-carter   \n",
              "\n",
              "                                      title  \\\n",
              "0                                    Avatar   \n",
              "1  Pirates of the Caribbean: At World's End   \n",
              "2                                   Spectre   \n",
              "3                     The Dark Knight Rises   \n",
              "4                               John Carter   \n",
              "\n",
              "                                            cast                crew  \\\n",
              "0  [SamWorthington, ZoeSaldana, SigourneyWeaver]      [JamesCameron]   \n",
              "1     [JohnnyDepp, OrlandoBloom, KeiraKnightley]     [GoreVerbinski]   \n",
              "2      [DanielCraig, ChristophWaltz, LéaSeydoux]         [SamMendes]   \n",
              "3      [ChristianBale, MichaelCaine, GaryOldman]  [ChristopherNolan]   \n",
              "4    [TaylorKitsch, LynnCollins, SamanthaMorton]     [AndrewStanton]   \n",
              "\n",
              "                                            overview  \\\n",
              "0  In the 22nd century, a paraplegic Marine is di...   \n",
              "1  Captain Barbossa, long believed to be dead, ha...   \n",
              "2  A cryptic message from Bond’s past sends him o...   \n",
              "3  Following the death of District Attorney Harve...   \n",
              "4  John Carter is a war-weary, former military ca...   \n",
              "\n",
              "                                          genres  \\\n",
              "0  [Action, Adventure, Fantasy, Science Fiction]   \n",
              "1                   [Adventure, Fantasy, Action]   \n",
              "2                     [Action, Adventure, Crime]   \n",
              "3               [Action, Crime, Drama, Thriller]   \n",
              "4           [Action, Adventure, Science Fiction]   \n",
              "\n",
              "                                            keywords  \n",
              "0  [culture clash, future, space war, space colon...  \n",
              "1  [ocean, drug abuse, exotic island, east india ...  \n",
              "2  [spy, based on novel, secret agent, sequel, mi...  \n",
              "3  [dc comics, crime fighter, terrorist, secret i...  \n",
              "4  [based on novel, mars, medallion, space travel...  "
            ],
            "text/html": [
              "\n",
              "  <div id=\"df-f1aae5f6-037b-444e-ab97-c0a4e9ac466b\">\n",
              "    <div class=\"colab-df-container\">\n",
              "      <div>\n",
              "<style scoped>\n",
              "    .dataframe tbody tr th:only-of-type {\n",
              "        vertical-align: middle;\n",
              "    }\n",
              "\n",
              "    .dataframe tbody tr th {\n",
              "        vertical-align: top;\n",
              "    }\n",
              "\n",
              "    .dataframe thead th {\n",
              "        text-align: right;\n",
              "    }\n",
              "</style>\n",
              "<table border=\"1\" class=\"dataframe\">\n",
              "  <thead>\n",
              "    <tr style=\"text-align: right;\">\n",
              "      <th></th>\n",
              "      <th>id</th>\n",
              "      <th>homepage</th>\n",
              "      <th>title</th>\n",
              "      <th>cast</th>\n",
              "      <th>crew</th>\n",
              "      <th>overview</th>\n",
              "      <th>genres</th>\n",
              "      <th>keywords</th>\n",
              "    </tr>\n",
              "  </thead>\n",
              "  <tbody>\n",
              "    <tr>\n",
              "      <th>0</th>\n",
              "      <td>19995</td>\n",
              "      <td>http://www.avatarmovie.com/</td>\n",
              "      <td>Avatar</td>\n",
              "      <td>[SamWorthington, ZoeSaldana, SigourneyWeaver]</td>\n",
              "      <td>[JamesCameron]</td>\n",
              "      <td>In the 22nd century, a paraplegic Marine is di...</td>\n",
              "      <td>[Action, Adventure, Fantasy, Science Fiction]</td>\n",
              "      <td>[culture clash, future, space war, space colon...</td>\n",
              "    </tr>\n",
              "    <tr>\n",
              "      <th>1</th>\n",
              "      <td>285</td>\n",
              "      <td>http://disney.go.com/disneypictures/pirates/</td>\n",
              "      <td>Pirates of the Caribbean: At World's End</td>\n",
              "      <td>[JohnnyDepp, OrlandoBloom, KeiraKnightley]</td>\n",
              "      <td>[GoreVerbinski]</td>\n",
              "      <td>Captain Barbossa, long believed to be dead, ha...</td>\n",
              "      <td>[Adventure, Fantasy, Action]</td>\n",
              "      <td>[ocean, drug abuse, exotic island, east india ...</td>\n",
              "    </tr>\n",
              "    <tr>\n",
              "      <th>2</th>\n",
              "      <td>206647</td>\n",
              "      <td>http://www.sonypictures.com/movies/spectre/</td>\n",
              "      <td>Spectre</td>\n",
              "      <td>[DanielCraig, ChristophWaltz, LéaSeydoux]</td>\n",
              "      <td>[SamMendes]</td>\n",
              "      <td>A cryptic message from Bond’s past sends him o...</td>\n",
              "      <td>[Action, Adventure, Crime]</td>\n",
              "      <td>[spy, based on novel, secret agent, sequel, mi...</td>\n",
              "    </tr>\n",
              "    <tr>\n",
              "      <th>3</th>\n",
              "      <td>49026</td>\n",
              "      <td>http://www.thedarkknightrises.com/</td>\n",
              "      <td>The Dark Knight Rises</td>\n",
              "      <td>[ChristianBale, MichaelCaine, GaryOldman]</td>\n",
              "      <td>[ChristopherNolan]</td>\n",
              "      <td>Following the death of District Attorney Harve...</td>\n",
              "      <td>[Action, Crime, Drama, Thriller]</td>\n",
              "      <td>[dc comics, crime fighter, terrorist, secret i...</td>\n",
              "    </tr>\n",
              "    <tr>\n",
              "      <th>4</th>\n",
              "      <td>49529</td>\n",
              "      <td>http://movies.disney.com/john-carter</td>\n",
              "      <td>John Carter</td>\n",
              "      <td>[TaylorKitsch, LynnCollins, SamanthaMorton]</td>\n",
              "      <td>[AndrewStanton]</td>\n",
              "      <td>John Carter is a war-weary, former military ca...</td>\n",
              "      <td>[Action, Adventure, Science Fiction]</td>\n",
              "      <td>[based on novel, mars, medallion, space travel...</td>\n",
              "    </tr>\n",
              "  </tbody>\n",
              "</table>\n",
              "</div>\n",
              "      <button class=\"colab-df-convert\" onclick=\"convertToInteractive('df-f1aae5f6-037b-444e-ab97-c0a4e9ac466b')\"\n",
              "              title=\"Convert this dataframe to an interactive table.\"\n",
              "              style=\"display:none;\">\n",
              "        \n",
              "  <svg xmlns=\"http://www.w3.org/2000/svg\" height=\"24px\"viewBox=\"0 0 24 24\"\n",
              "       width=\"24px\">\n",
              "    <path d=\"M0 0h24v24H0V0z\" fill=\"none\"/>\n",
              "    <path d=\"M18.56 5.44l.94 2.06.94-2.06 2.06-.94-2.06-.94-.94-2.06-.94 2.06-2.06.94zm-11 1L8.5 8.5l.94-2.06 2.06-.94-2.06-.94L8.5 2.5l-.94 2.06-2.06.94zm10 10l.94 2.06.94-2.06 2.06-.94-2.06-.94-.94-2.06-.94 2.06-2.06.94z\"/><path d=\"M17.41 7.96l-1.37-1.37c-.4-.4-.92-.59-1.43-.59-.52 0-1.04.2-1.43.59L10.3 9.45l-7.72 7.72c-.78.78-.78 2.05 0 2.83L4 21.41c.39.39.9.59 1.41.59.51 0 1.02-.2 1.41-.59l7.78-7.78 2.81-2.81c.8-.78.8-2.07 0-2.86zM5.41 20L4 18.59l7.72-7.72 1.47 1.35L5.41 20z\"/>\n",
              "  </svg>\n",
              "      </button>\n",
              "      \n",
              "  <style>\n",
              "    .colab-df-container {\n",
              "      display:flex;\n",
              "      flex-wrap:wrap;\n",
              "      gap: 12px;\n",
              "    }\n",
              "\n",
              "    .colab-df-convert {\n",
              "      background-color: #E8F0FE;\n",
              "      border: none;\n",
              "      border-radius: 50%;\n",
              "      cursor: pointer;\n",
              "      display: none;\n",
              "      fill: #1967D2;\n",
              "      height: 32px;\n",
              "      padding: 0 0 0 0;\n",
              "      width: 32px;\n",
              "    }\n",
              "\n",
              "    .colab-df-convert:hover {\n",
              "      background-color: #E2EBFA;\n",
              "      box-shadow: 0px 1px 2px rgba(60, 64, 67, 0.3), 0px 1px 3px 1px rgba(60, 64, 67, 0.15);\n",
              "      fill: #174EA6;\n",
              "    }\n",
              "\n",
              "    [theme=dark] .colab-df-convert {\n",
              "      background-color: #3B4455;\n",
              "      fill: #D2E3FC;\n",
              "    }\n",
              "\n",
              "    [theme=dark] .colab-df-convert:hover {\n",
              "      background-color: #434B5C;\n",
              "      box-shadow: 0px 1px 3px 1px rgba(0, 0, 0, 0.15);\n",
              "      filter: drop-shadow(0px 1px 2px rgba(0, 0, 0, 0.3));\n",
              "      fill: #FFFFFF;\n",
              "    }\n",
              "  </style>\n",
              "\n",
              "      <script>\n",
              "        const buttonEl =\n",
              "          document.querySelector('#df-f1aae5f6-037b-444e-ab97-c0a4e9ac466b button.colab-df-convert');\n",
              "        buttonEl.style.display =\n",
              "          google.colab.kernel.accessAllowed ? 'block' : 'none';\n",
              "\n",
              "        async function convertToInteractive(key) {\n",
              "          const element = document.querySelector('#df-f1aae5f6-037b-444e-ab97-c0a4e9ac466b');\n",
              "          const dataTable =\n",
              "            await google.colab.kernel.invokeFunction('convertToInteractive',\n",
              "                                                     [key], {});\n",
              "          if (!dataTable) return;\n",
              "\n",
              "          const docLinkHtml = 'Like what you see? Visit the ' +\n",
              "            '<a target=\"_blank\" href=https://colab.research.google.com/notebooks/data_table.ipynb>data table notebook</a>'\n",
              "            + ' to learn more about interactive tables.';\n",
              "          element.innerHTML = '';\n",
              "          dataTable['output_type'] = 'display_data';\n",
              "          await google.colab.output.renderOutput(dataTable, element);\n",
              "          const docLink = document.createElement('div');\n",
              "          docLink.innerHTML = docLinkHtml;\n",
              "          element.appendChild(docLink);\n",
              "        }\n",
              "      </script>\n",
              "    </div>\n",
              "  </div>\n",
              "  "
            ]
          },
          "metadata": {},
          "execution_count": 41
        }
      ]
    },
    {
      "cell_type": "code",
      "source": [
        "\n",
        "new_df.isna().sum()"
      ],
      "metadata": {
        "colab": {
          "base_uri": "https://localhost:8080/"
        },
        "id": "NJ2tvwJhwlty",
        "outputId": "1f9a8952-f40c-472e-acab-5ad5deb6c783"
      },
      "execution_count": null,
      "outputs": [
        {
          "output_type": "execute_result",
          "data": {
            "text/plain": [
              "id             0\n",
              "homepage    3096\n",
              "title          0\n",
              "cast           0\n",
              "crew           0\n",
              "overview       3\n",
              "genres         0\n",
              "keywords       0\n",
              "dtype: int64"
            ]
          },
          "metadata": {},
          "execution_count": 42
        }
      ]
    },
    {
      "cell_type": "code",
      "source": [
        "new_df[\"homepage\"]=new_df[\"homepage\"].fillna(0)"
      ],
      "metadata": {
        "id": "n5SygL7JwqBb"
      },
      "execution_count": null,
      "outputs": []
    },
    {
      "cell_type": "code",
      "source": [
        "\n",
        "url=list(enumerate(new_df[\"homepage\"]))\n",
        "new_df[\"urls\"]=0\n",
        "for i in range(len(url)):\n",
        "  if new_df[\"homepage\"][i]==0:\n",
        "    \n",
        "    x=(\"{}/{}\".format(\"https://www.\",str(\"\".join(list(new_df[\"title\"][url[i][0]].split())))))\n",
        "\n",
        "    new_df[\"urls\"][i]=x\n",
        "  else:\n",
        "    new_df[\"urls\"][i]=new_df[\"homepage\"][i]"
      ],
      "metadata": {
        "colab": {
          "base_uri": "https://localhost:8080/"
        },
        "id": "F7xxMJ44wtdr",
        "outputId": "3e33484d-0117-4d99-8fd7-a76ed1af88b4"
      },
      "execution_count": null,
      "outputs": [
        {
          "output_type": "stream",
          "name": "stderr",
          "text": [
            "<ipython-input-44-1e6780ca310e>:10: SettingWithCopyWarning: \n",
            "A value is trying to be set on a copy of a slice from a DataFrame\n",
            "\n",
            "See the caveats in the documentation: https://pandas.pydata.org/pandas-docs/stable/user_guide/indexing.html#returning-a-view-versus-a-copy\n",
            "  new_df[\"urls\"][i]=new_df[\"homepage\"][i]\n"
          ]
        }
      ]
    },
    {
      "cell_type": "code",
      "source": [
        "# def link(url,i):\n",
        "#   s=url\n",
        "#   x=\"{} + {}\".format(\"https://www.\",str(new_df.iloc[[url[i][0]]].title))\n",
        "#   iF s is \"link\" \n",
        "#     return x\n",
        "#   else:\n",
        "#     return s\n",
        "# # new_df[new_df[\"homepage\"].fillna(\"{} + {}\".format(\"https://www.\",new_df[\"title\"]]))\n",
        "new_df[\"urls\"]"
      ],
      "metadata": {
        "colab": {
          "base_uri": "https://localhost:8080/"
        },
        "id": "lHlLxsD5wy1A",
        "outputId": "0aacbae7-0da0-4273-d2e8-904fdd343a8e"
      },
      "execution_count": null,
      "outputs": [
        {
          "output_type": "execute_result",
          "data": {
            "text/plain": [
              "0                             http://www.avatarmovie.com/\n",
              "1            http://disney.go.com/disneypictures/pirates/\n",
              "2             http://www.sonypictures.com/movies/spectre/\n",
              "3                      http://www.thedarkknightrises.com/\n",
              "4                    http://movies.disney.com/john-carter\n",
              "                              ...                        \n",
              "4804                              https://www./ElMariachi\n",
              "4805                               https://www./Newlyweds\n",
              "4806    http://www.hallmarkchannel.com/signedsealeddel...\n",
              "4807                          http://shanghaicalling.com/\n",
              "4808                          https://www./MyDatewithDrew\n",
              "Name: urls, Length: 4809, dtype: object"
            ]
          },
          "metadata": {},
          "execution_count": 45
        }
      ]
    },
    {
      "cell_type": "code",
      "source": [
        "# new_df.iloc[[0]].title\n",
        "new_df.sample(5)"
      ],
      "metadata": {
        "id": "JuEsk3cgw4XK",
        "outputId": "2fabedee-2f9f-45d2-e9bc-09a261cd87eb",
        "colab": {
          "base_uri": "https://localhost:8080/",
          "height": 704
        }
      },
      "execution_count": null,
      "outputs": [
        {
          "output_type": "execute_result",
          "data": {
            "text/plain": [
              "          id                      homepage                 title  \\\n",
              "3740    3040                             0           Night Watch   \n",
              "896     9907                             0              Barnyard   \n",
              "1327   14324                             0      Virgin Territory   \n",
              "1123     509  http://www.notting-hill.com/          Notting Hill   \n",
              "3005  280092                             0  Insidious: Chapter 3   \n",
              "\n",
              "                                                   cast                crew  \\\n",
              "3740  [KonstantinKhabenskiy, VladimirMenshov, Galina...  [TimurBekmambetov]   \n",
              "896              [CourteneyCox, KevinJames, SamElliott]     [SteveOedekerk]   \n",
              "1327  [RyanCartwright, HaydenChristensen, MischaBarton]       [DavidLeland]   \n",
              "1123               [JuliaRoberts, HughGrant, GinaMcKee]      [RogerMichell]   \n",
              "3005          [DermotMulroney, StefanieScott, LinShaye]     [LeighWhannell]   \n",
              "\n",
              "                                               overview  \\\n",
              "3740  Among normal humans live the \"Others\" possessi...   \n",
              "896   When things get crazy at the farm, it's up to ...   \n",
              "1327  The film is set in Tuscany during the Black De...   \n",
              "1123  The British comedy from director Roger Michell...   \n",
              "3005  A twisted new tale of terror begins for a teen...   \n",
              "\n",
              "                                    genres  \\\n",
              "3740           [Fantasy, Action, Thriller]   \n",
              "896            [Animation, Comedy, Family]   \n",
              "1327  [Adventure, Action, Comedy, Romance]   \n",
              "1123              [Romance, Comedy, Drama]   \n",
              "3005             [Drama, Horror, Thriller]   \n",
              "\n",
              "                                               keywords  \\\n",
              "3740  [witch, subway, fight, airplane, owl, todfeind...   \n",
              "896                [peasant, farm, cow, cojote, family]   \n",
              "1327                                                 []   \n",
              "1123  [london england, bookshop, birthday, new love,...   \n",
              "3005                                           [sequel]   \n",
              "\n",
              "                                 urls  \n",
              "3740          https://www./NightWatch  \n",
              "896             https://www./Barnyard  \n",
              "1327     https://www./VirginTerritory  \n",
              "1123     http://www.notting-hill.com/  \n",
              "3005  https://www./Insidious:Chapter3  "
            ],
            "text/html": [
              "\n",
              "  <div id=\"df-855865bf-36f9-4bc1-912d-53e3ed071cb6\">\n",
              "    <div class=\"colab-df-container\">\n",
              "      <div>\n",
              "<style scoped>\n",
              "    .dataframe tbody tr th:only-of-type {\n",
              "        vertical-align: middle;\n",
              "    }\n",
              "\n",
              "    .dataframe tbody tr th {\n",
              "        vertical-align: top;\n",
              "    }\n",
              "\n",
              "    .dataframe thead th {\n",
              "        text-align: right;\n",
              "    }\n",
              "</style>\n",
              "<table border=\"1\" class=\"dataframe\">\n",
              "  <thead>\n",
              "    <tr style=\"text-align: right;\">\n",
              "      <th></th>\n",
              "      <th>id</th>\n",
              "      <th>homepage</th>\n",
              "      <th>title</th>\n",
              "      <th>cast</th>\n",
              "      <th>crew</th>\n",
              "      <th>overview</th>\n",
              "      <th>genres</th>\n",
              "      <th>keywords</th>\n",
              "      <th>urls</th>\n",
              "    </tr>\n",
              "  </thead>\n",
              "  <tbody>\n",
              "    <tr>\n",
              "      <th>3740</th>\n",
              "      <td>3040</td>\n",
              "      <td>0</td>\n",
              "      <td>Night Watch</td>\n",
              "      <td>[KonstantinKhabenskiy, VladimirMenshov, Galina...</td>\n",
              "      <td>[TimurBekmambetov]</td>\n",
              "      <td>Among normal humans live the \"Others\" possessi...</td>\n",
              "      <td>[Fantasy, Action, Thriller]</td>\n",
              "      <td>[witch, subway, fight, airplane, owl, todfeind...</td>\n",
              "      <td>https://www./NightWatch</td>\n",
              "    </tr>\n",
              "    <tr>\n",
              "      <th>896</th>\n",
              "      <td>9907</td>\n",
              "      <td>0</td>\n",
              "      <td>Barnyard</td>\n",
              "      <td>[CourteneyCox, KevinJames, SamElliott]</td>\n",
              "      <td>[SteveOedekerk]</td>\n",
              "      <td>When things get crazy at the farm, it's up to ...</td>\n",
              "      <td>[Animation, Comedy, Family]</td>\n",
              "      <td>[peasant, farm, cow, cojote, family]</td>\n",
              "      <td>https://www./Barnyard</td>\n",
              "    </tr>\n",
              "    <tr>\n",
              "      <th>1327</th>\n",
              "      <td>14324</td>\n",
              "      <td>0</td>\n",
              "      <td>Virgin Territory</td>\n",
              "      <td>[RyanCartwright, HaydenChristensen, MischaBarton]</td>\n",
              "      <td>[DavidLeland]</td>\n",
              "      <td>The film is set in Tuscany during the Black De...</td>\n",
              "      <td>[Adventure, Action, Comedy, Romance]</td>\n",
              "      <td>[]</td>\n",
              "      <td>https://www./VirginTerritory</td>\n",
              "    </tr>\n",
              "    <tr>\n",
              "      <th>1123</th>\n",
              "      <td>509</td>\n",
              "      <td>http://www.notting-hill.com/</td>\n",
              "      <td>Notting Hill</td>\n",
              "      <td>[JuliaRoberts, HughGrant, GinaMcKee]</td>\n",
              "      <td>[RogerMichell]</td>\n",
              "      <td>The British comedy from director Roger Michell...</td>\n",
              "      <td>[Romance, Comedy, Drama]</td>\n",
              "      <td>[london england, bookshop, birthday, new love,...</td>\n",
              "      <td>http://www.notting-hill.com/</td>\n",
              "    </tr>\n",
              "    <tr>\n",
              "      <th>3005</th>\n",
              "      <td>280092</td>\n",
              "      <td>0</td>\n",
              "      <td>Insidious: Chapter 3</td>\n",
              "      <td>[DermotMulroney, StefanieScott, LinShaye]</td>\n",
              "      <td>[LeighWhannell]</td>\n",
              "      <td>A twisted new tale of terror begins for a teen...</td>\n",
              "      <td>[Drama, Horror, Thriller]</td>\n",
              "      <td>[sequel]</td>\n",
              "      <td>https://www./Insidious:Chapter3</td>\n",
              "    </tr>\n",
              "  </tbody>\n",
              "</table>\n",
              "</div>\n",
              "      <button class=\"colab-df-convert\" onclick=\"convertToInteractive('df-855865bf-36f9-4bc1-912d-53e3ed071cb6')\"\n",
              "              title=\"Convert this dataframe to an interactive table.\"\n",
              "              style=\"display:none;\">\n",
              "        \n",
              "  <svg xmlns=\"http://www.w3.org/2000/svg\" height=\"24px\"viewBox=\"0 0 24 24\"\n",
              "       width=\"24px\">\n",
              "    <path d=\"M0 0h24v24H0V0z\" fill=\"none\"/>\n",
              "    <path d=\"M18.56 5.44l.94 2.06.94-2.06 2.06-.94-2.06-.94-.94-2.06-.94 2.06-2.06.94zm-11 1L8.5 8.5l.94-2.06 2.06-.94-2.06-.94L8.5 2.5l-.94 2.06-2.06.94zm10 10l.94 2.06.94-2.06 2.06-.94-2.06-.94-.94-2.06-.94 2.06-2.06.94z\"/><path d=\"M17.41 7.96l-1.37-1.37c-.4-.4-.92-.59-1.43-.59-.52 0-1.04.2-1.43.59L10.3 9.45l-7.72 7.72c-.78.78-.78 2.05 0 2.83L4 21.41c.39.39.9.59 1.41.59.51 0 1.02-.2 1.41-.59l7.78-7.78 2.81-2.81c.8-.78.8-2.07 0-2.86zM5.41 20L4 18.59l7.72-7.72 1.47 1.35L5.41 20z\"/>\n",
              "  </svg>\n",
              "      </button>\n",
              "      \n",
              "  <style>\n",
              "    .colab-df-container {\n",
              "      display:flex;\n",
              "      flex-wrap:wrap;\n",
              "      gap: 12px;\n",
              "    }\n",
              "\n",
              "    .colab-df-convert {\n",
              "      background-color: #E8F0FE;\n",
              "      border: none;\n",
              "      border-radius: 50%;\n",
              "      cursor: pointer;\n",
              "      display: none;\n",
              "      fill: #1967D2;\n",
              "      height: 32px;\n",
              "      padding: 0 0 0 0;\n",
              "      width: 32px;\n",
              "    }\n",
              "\n",
              "    .colab-df-convert:hover {\n",
              "      background-color: #E2EBFA;\n",
              "      box-shadow: 0px 1px 2px rgba(60, 64, 67, 0.3), 0px 1px 3px 1px rgba(60, 64, 67, 0.15);\n",
              "      fill: #174EA6;\n",
              "    }\n",
              "\n",
              "    [theme=dark] .colab-df-convert {\n",
              "      background-color: #3B4455;\n",
              "      fill: #D2E3FC;\n",
              "    }\n",
              "\n",
              "    [theme=dark] .colab-df-convert:hover {\n",
              "      background-color: #434B5C;\n",
              "      box-shadow: 0px 1px 3px 1px rgba(0, 0, 0, 0.15);\n",
              "      filter: drop-shadow(0px 1px 2px rgba(0, 0, 0, 0.3));\n",
              "      fill: #FFFFFF;\n",
              "    }\n",
              "  </style>\n",
              "\n",
              "      <script>\n",
              "        const buttonEl =\n",
              "          document.querySelector('#df-855865bf-36f9-4bc1-912d-53e3ed071cb6 button.colab-df-convert');\n",
              "        buttonEl.style.display =\n",
              "          google.colab.kernel.accessAllowed ? 'block' : 'none';\n",
              "\n",
              "        async function convertToInteractive(key) {\n",
              "          const element = document.querySelector('#df-855865bf-36f9-4bc1-912d-53e3ed071cb6');\n",
              "          const dataTable =\n",
              "            await google.colab.kernel.invokeFunction('convertToInteractive',\n",
              "                                                     [key], {});\n",
              "          if (!dataTable) return;\n",
              "\n",
              "          const docLinkHtml = 'Like what you see? Visit the ' +\n",
              "            '<a target=\"_blank\" href=https://colab.research.google.com/notebooks/data_table.ipynb>data table notebook</a>'\n",
              "            + ' to learn more about interactive tables.';\n",
              "          element.innerHTML = '';\n",
              "          dataTable['output_type'] = 'display_data';\n",
              "          await google.colab.output.renderOutput(dataTable, element);\n",
              "          const docLink = document.createElement('div');\n",
              "          docLink.innerHTML = docLinkHtml;\n",
              "          element.appendChild(docLink);\n",
              "        }\n",
              "      </script>\n",
              "    </div>\n",
              "  </div>\n",
              "  "
            ]
          },
          "metadata": {},
          "execution_count": 46
        }
      ]
    },
    {
      "cell_type": "code",
      "source": [
        "# to convert string into list of strings \n",
        "def spliting(text):\n",
        "  text=str(text).split()\n",
        "  return text\n",
        "     "
      ],
      "metadata": {
        "id": "cqvr5yPCxipD"
      },
      "execution_count": null,
      "outputs": []
    },
    {
      "cell_type": "code",
      "source": [
        "\n",
        "new_df['overview']=new_df['overview'].apply(spliting)"
      ],
      "metadata": {
        "id": "yYYCHc4Cxmra"
      },
      "execution_count": null,
      "outputs": []
    },
    {
      "cell_type": "code",
      "source": [
        "new_df['all_tags']=new_df['overview'] + new_df['genres'] + new_df['keywords'] + new_df['cast'] + new_df['crew']\n",
        "     \n",
        "\n",
        "\n",
        "     "
      ],
      "metadata": {
        "id": "PpF4gGAnxolm"
      },
      "execution_count": null,
      "outputs": []
    },
    {
      "cell_type": "code",
      "source": [
        "new_df.drop(columns=['overview','genres' ,'keywords','cast' , 'crew','homepage'],inplace=True)\n"
      ],
      "metadata": {
        "id": "9rbdFQjFxtMX"
      },
      "execution_count": null,
      "outputs": []
    },
    {
      "cell_type": "code",
      "source": [
        "new_df.head()"
      ],
      "metadata": {
        "colab": {
          "base_uri": "https://localhost:8080/",
          "height": 206
        },
        "id": "3aTfQT_HxxsG",
        "outputId": "7ca7e071-4a65-46ef-c910-4d4a08950e9c"
      },
      "execution_count": null,
      "outputs": [
        {
          "output_type": "execute_result",
          "data": {
            "text/plain": [
              "       id                                     title  \\\n",
              "0   19995                                    Avatar   \n",
              "1     285  Pirates of the Caribbean: At World's End   \n",
              "2  206647                                   Spectre   \n",
              "3   49026                     The Dark Knight Rises   \n",
              "4   49529                               John Carter   \n",
              "\n",
              "                                           urls  \\\n",
              "0                   http://www.avatarmovie.com/   \n",
              "1  http://disney.go.com/disneypictures/pirates/   \n",
              "2   http://www.sonypictures.com/movies/spectre/   \n",
              "3            http://www.thedarkknightrises.com/   \n",
              "4          http://movies.disney.com/john-carter   \n",
              "\n",
              "                                            all_tags  \n",
              "0  [In, the, 22nd, century,, a, paraplegic, Marin...  \n",
              "1  [Captain, Barbossa,, long, believed, to, be, d...  \n",
              "2  [A, cryptic, message, from, Bond’s, past, send...  \n",
              "3  [Following, the, death, of, District, Attorney...  \n",
              "4  [John, Carter, is, a, war-weary,, former, mili...  "
            ],
            "text/html": [
              "\n",
              "  <div id=\"df-b67aaa8d-1727-40cd-99b4-217d200e0ad4\">\n",
              "    <div class=\"colab-df-container\">\n",
              "      <div>\n",
              "<style scoped>\n",
              "    .dataframe tbody tr th:only-of-type {\n",
              "        vertical-align: middle;\n",
              "    }\n",
              "\n",
              "    .dataframe tbody tr th {\n",
              "        vertical-align: top;\n",
              "    }\n",
              "\n",
              "    .dataframe thead th {\n",
              "        text-align: right;\n",
              "    }\n",
              "</style>\n",
              "<table border=\"1\" class=\"dataframe\">\n",
              "  <thead>\n",
              "    <tr style=\"text-align: right;\">\n",
              "      <th></th>\n",
              "      <th>id</th>\n",
              "      <th>title</th>\n",
              "      <th>urls</th>\n",
              "      <th>all_tags</th>\n",
              "    </tr>\n",
              "  </thead>\n",
              "  <tbody>\n",
              "    <tr>\n",
              "      <th>0</th>\n",
              "      <td>19995</td>\n",
              "      <td>Avatar</td>\n",
              "      <td>http://www.avatarmovie.com/</td>\n",
              "      <td>[In, the, 22nd, century,, a, paraplegic, Marin...</td>\n",
              "    </tr>\n",
              "    <tr>\n",
              "      <th>1</th>\n",
              "      <td>285</td>\n",
              "      <td>Pirates of the Caribbean: At World's End</td>\n",
              "      <td>http://disney.go.com/disneypictures/pirates/</td>\n",
              "      <td>[Captain, Barbossa,, long, believed, to, be, d...</td>\n",
              "    </tr>\n",
              "    <tr>\n",
              "      <th>2</th>\n",
              "      <td>206647</td>\n",
              "      <td>Spectre</td>\n",
              "      <td>http://www.sonypictures.com/movies/spectre/</td>\n",
              "      <td>[A, cryptic, message, from, Bond’s, past, send...</td>\n",
              "    </tr>\n",
              "    <tr>\n",
              "      <th>3</th>\n",
              "      <td>49026</td>\n",
              "      <td>The Dark Knight Rises</td>\n",
              "      <td>http://www.thedarkknightrises.com/</td>\n",
              "      <td>[Following, the, death, of, District, Attorney...</td>\n",
              "    </tr>\n",
              "    <tr>\n",
              "      <th>4</th>\n",
              "      <td>49529</td>\n",
              "      <td>John Carter</td>\n",
              "      <td>http://movies.disney.com/john-carter</td>\n",
              "      <td>[John, Carter, is, a, war-weary,, former, mili...</td>\n",
              "    </tr>\n",
              "  </tbody>\n",
              "</table>\n",
              "</div>\n",
              "      <button class=\"colab-df-convert\" onclick=\"convertToInteractive('df-b67aaa8d-1727-40cd-99b4-217d200e0ad4')\"\n",
              "              title=\"Convert this dataframe to an interactive table.\"\n",
              "              style=\"display:none;\">\n",
              "        \n",
              "  <svg xmlns=\"http://www.w3.org/2000/svg\" height=\"24px\"viewBox=\"0 0 24 24\"\n",
              "       width=\"24px\">\n",
              "    <path d=\"M0 0h24v24H0V0z\" fill=\"none\"/>\n",
              "    <path d=\"M18.56 5.44l.94 2.06.94-2.06 2.06-.94-2.06-.94-.94-2.06-.94 2.06-2.06.94zm-11 1L8.5 8.5l.94-2.06 2.06-.94-2.06-.94L8.5 2.5l-.94 2.06-2.06.94zm10 10l.94 2.06.94-2.06 2.06-.94-2.06-.94-.94-2.06-.94 2.06-2.06.94z\"/><path d=\"M17.41 7.96l-1.37-1.37c-.4-.4-.92-.59-1.43-.59-.52 0-1.04.2-1.43.59L10.3 9.45l-7.72 7.72c-.78.78-.78 2.05 0 2.83L4 21.41c.39.39.9.59 1.41.59.51 0 1.02-.2 1.41-.59l7.78-7.78 2.81-2.81c.8-.78.8-2.07 0-2.86zM5.41 20L4 18.59l7.72-7.72 1.47 1.35L5.41 20z\"/>\n",
              "  </svg>\n",
              "      </button>\n",
              "      \n",
              "  <style>\n",
              "    .colab-df-container {\n",
              "      display:flex;\n",
              "      flex-wrap:wrap;\n",
              "      gap: 12px;\n",
              "    }\n",
              "\n",
              "    .colab-df-convert {\n",
              "      background-color: #E8F0FE;\n",
              "      border: none;\n",
              "      border-radius: 50%;\n",
              "      cursor: pointer;\n",
              "      display: none;\n",
              "      fill: #1967D2;\n",
              "      height: 32px;\n",
              "      padding: 0 0 0 0;\n",
              "      width: 32px;\n",
              "    }\n",
              "\n",
              "    .colab-df-convert:hover {\n",
              "      background-color: #E2EBFA;\n",
              "      box-shadow: 0px 1px 2px rgba(60, 64, 67, 0.3), 0px 1px 3px 1px rgba(60, 64, 67, 0.15);\n",
              "      fill: #174EA6;\n",
              "    }\n",
              "\n",
              "    [theme=dark] .colab-df-convert {\n",
              "      background-color: #3B4455;\n",
              "      fill: #D2E3FC;\n",
              "    }\n",
              "\n",
              "    [theme=dark] .colab-df-convert:hover {\n",
              "      background-color: #434B5C;\n",
              "      box-shadow: 0px 1px 3px 1px rgba(0, 0, 0, 0.15);\n",
              "      filter: drop-shadow(0px 1px 2px rgba(0, 0, 0, 0.3));\n",
              "      fill: #FFFFFF;\n",
              "    }\n",
              "  </style>\n",
              "\n",
              "      <script>\n",
              "        const buttonEl =\n",
              "          document.querySelector('#df-b67aaa8d-1727-40cd-99b4-217d200e0ad4 button.colab-df-convert');\n",
              "        buttonEl.style.display =\n",
              "          google.colab.kernel.accessAllowed ? 'block' : 'none';\n",
              "\n",
              "        async function convertToInteractive(key) {\n",
              "          const element = document.querySelector('#df-b67aaa8d-1727-40cd-99b4-217d200e0ad4');\n",
              "          const dataTable =\n",
              "            await google.colab.kernel.invokeFunction('convertToInteractive',\n",
              "                                                     [key], {});\n",
              "          if (!dataTable) return;\n",
              "\n",
              "          const docLinkHtml = 'Like what you see? Visit the ' +\n",
              "            '<a target=\"_blank\" href=https://colab.research.google.com/notebooks/data_table.ipynb>data table notebook</a>'\n",
              "            + ' to learn more about interactive tables.';\n",
              "          element.innerHTML = '';\n",
              "          dataTable['output_type'] = 'display_data';\n",
              "          await google.colab.output.renderOutput(dataTable, element);\n",
              "          const docLink = document.createElement('div');\n",
              "          docLink.innerHTML = docLinkHtml;\n",
              "          element.appendChild(docLink);\n",
              "        }\n",
              "      </script>\n",
              "    </div>\n",
              "  </div>\n",
              "  "
            ]
          },
          "metadata": {},
          "execution_count": 51
        }
      ]
    },
    {
      "cell_type": "code",
      "source": [
        "\n",
        "def convert_lower(text):\n",
        "  l=[]\n",
        "  for item in text:\n",
        "    l.append(item.lower())\n",
        "  return l\n",
        "    \n"
      ],
      "metadata": {
        "id": "A8eiGGy1x7JS"
      },
      "execution_count": null,
      "outputs": []
    },
    {
      "cell_type": "code",
      "source": [
        "new_df['all_tags']=new_df['all_tags'].apply(convert_lower)"
      ],
      "metadata": {
        "id": "dPq07mtCyJRH"
      },
      "execution_count": null,
      "outputs": []
    },
    {
      "cell_type": "code",
      "source": [
        "\n",
        "new_df.head()"
      ],
      "metadata": {
        "colab": {
          "base_uri": "https://localhost:8080/",
          "height": 206
        },
        "id": "s5fPEnnyyOj_",
        "outputId": "ac9ef4eb-0fa7-45cf-e35d-89300286f7a9"
      },
      "execution_count": null,
      "outputs": [
        {
          "output_type": "execute_result",
          "data": {
            "text/plain": [
              "       id                                     title  \\\n",
              "0   19995                                    Avatar   \n",
              "1     285  Pirates of the Caribbean: At World's End   \n",
              "2  206647                                   Spectre   \n",
              "3   49026                     The Dark Knight Rises   \n",
              "4   49529                               John Carter   \n",
              "\n",
              "                                           urls  \\\n",
              "0                   http://www.avatarmovie.com/   \n",
              "1  http://disney.go.com/disneypictures/pirates/   \n",
              "2   http://www.sonypictures.com/movies/spectre/   \n",
              "3            http://www.thedarkknightrises.com/   \n",
              "4          http://movies.disney.com/john-carter   \n",
              "\n",
              "                                            all_tags  \n",
              "0  [in, the, 22nd, century,, a, paraplegic, marin...  \n",
              "1  [captain, barbossa,, long, believed, to, be, d...  \n",
              "2  [a, cryptic, message, from, bond’s, past, send...  \n",
              "3  [following, the, death, of, district, attorney...  \n",
              "4  [john, carter, is, a, war-weary,, former, mili...  "
            ],
            "text/html": [
              "\n",
              "  <div id=\"df-ac2b8f1d-4ff8-46f2-87ab-7e30ea74e5a0\">\n",
              "    <div class=\"colab-df-container\">\n",
              "      <div>\n",
              "<style scoped>\n",
              "    .dataframe tbody tr th:only-of-type {\n",
              "        vertical-align: middle;\n",
              "    }\n",
              "\n",
              "    .dataframe tbody tr th {\n",
              "        vertical-align: top;\n",
              "    }\n",
              "\n",
              "    .dataframe thead th {\n",
              "        text-align: right;\n",
              "    }\n",
              "</style>\n",
              "<table border=\"1\" class=\"dataframe\">\n",
              "  <thead>\n",
              "    <tr style=\"text-align: right;\">\n",
              "      <th></th>\n",
              "      <th>id</th>\n",
              "      <th>title</th>\n",
              "      <th>urls</th>\n",
              "      <th>all_tags</th>\n",
              "    </tr>\n",
              "  </thead>\n",
              "  <tbody>\n",
              "    <tr>\n",
              "      <th>0</th>\n",
              "      <td>19995</td>\n",
              "      <td>Avatar</td>\n",
              "      <td>http://www.avatarmovie.com/</td>\n",
              "      <td>[in, the, 22nd, century,, a, paraplegic, marin...</td>\n",
              "    </tr>\n",
              "    <tr>\n",
              "      <th>1</th>\n",
              "      <td>285</td>\n",
              "      <td>Pirates of the Caribbean: At World's End</td>\n",
              "      <td>http://disney.go.com/disneypictures/pirates/</td>\n",
              "      <td>[captain, barbossa,, long, believed, to, be, d...</td>\n",
              "    </tr>\n",
              "    <tr>\n",
              "      <th>2</th>\n",
              "      <td>206647</td>\n",
              "      <td>Spectre</td>\n",
              "      <td>http://www.sonypictures.com/movies/spectre/</td>\n",
              "      <td>[a, cryptic, message, from, bond’s, past, send...</td>\n",
              "    </tr>\n",
              "    <tr>\n",
              "      <th>3</th>\n",
              "      <td>49026</td>\n",
              "      <td>The Dark Knight Rises</td>\n",
              "      <td>http://www.thedarkknightrises.com/</td>\n",
              "      <td>[following, the, death, of, district, attorney...</td>\n",
              "    </tr>\n",
              "    <tr>\n",
              "      <th>4</th>\n",
              "      <td>49529</td>\n",
              "      <td>John Carter</td>\n",
              "      <td>http://movies.disney.com/john-carter</td>\n",
              "      <td>[john, carter, is, a, war-weary,, former, mili...</td>\n",
              "    </tr>\n",
              "  </tbody>\n",
              "</table>\n",
              "</div>\n",
              "      <button class=\"colab-df-convert\" onclick=\"convertToInteractive('df-ac2b8f1d-4ff8-46f2-87ab-7e30ea74e5a0')\"\n",
              "              title=\"Convert this dataframe to an interactive table.\"\n",
              "              style=\"display:none;\">\n",
              "        \n",
              "  <svg xmlns=\"http://www.w3.org/2000/svg\" height=\"24px\"viewBox=\"0 0 24 24\"\n",
              "       width=\"24px\">\n",
              "    <path d=\"M0 0h24v24H0V0z\" fill=\"none\"/>\n",
              "    <path d=\"M18.56 5.44l.94 2.06.94-2.06 2.06-.94-2.06-.94-.94-2.06-.94 2.06-2.06.94zm-11 1L8.5 8.5l.94-2.06 2.06-.94-2.06-.94L8.5 2.5l-.94 2.06-2.06.94zm10 10l.94 2.06.94-2.06 2.06-.94-2.06-.94-.94-2.06-.94 2.06-2.06.94z\"/><path d=\"M17.41 7.96l-1.37-1.37c-.4-.4-.92-.59-1.43-.59-.52 0-1.04.2-1.43.59L10.3 9.45l-7.72 7.72c-.78.78-.78 2.05 0 2.83L4 21.41c.39.39.9.59 1.41.59.51 0 1.02-.2 1.41-.59l7.78-7.78 2.81-2.81c.8-.78.8-2.07 0-2.86zM5.41 20L4 18.59l7.72-7.72 1.47 1.35L5.41 20z\"/>\n",
              "  </svg>\n",
              "      </button>\n",
              "      \n",
              "  <style>\n",
              "    .colab-df-container {\n",
              "      display:flex;\n",
              "      flex-wrap:wrap;\n",
              "      gap: 12px;\n",
              "    }\n",
              "\n",
              "    .colab-df-convert {\n",
              "      background-color: #E8F0FE;\n",
              "      border: none;\n",
              "      border-radius: 50%;\n",
              "      cursor: pointer;\n",
              "      display: none;\n",
              "      fill: #1967D2;\n",
              "      height: 32px;\n",
              "      padding: 0 0 0 0;\n",
              "      width: 32px;\n",
              "    }\n",
              "\n",
              "    .colab-df-convert:hover {\n",
              "      background-color: #E2EBFA;\n",
              "      box-shadow: 0px 1px 2px rgba(60, 64, 67, 0.3), 0px 1px 3px 1px rgba(60, 64, 67, 0.15);\n",
              "      fill: #174EA6;\n",
              "    }\n",
              "\n",
              "    [theme=dark] .colab-df-convert {\n",
              "      background-color: #3B4455;\n",
              "      fill: #D2E3FC;\n",
              "    }\n",
              "\n",
              "    [theme=dark] .colab-df-convert:hover {\n",
              "      background-color: #434B5C;\n",
              "      box-shadow: 0px 1px 3px 1px rgba(0, 0, 0, 0.15);\n",
              "      filter: drop-shadow(0px 1px 2px rgba(0, 0, 0, 0.3));\n",
              "      fill: #FFFFFF;\n",
              "    }\n",
              "  </style>\n",
              "\n",
              "      <script>\n",
              "        const buttonEl =\n",
              "          document.querySelector('#df-ac2b8f1d-4ff8-46f2-87ab-7e30ea74e5a0 button.colab-df-convert');\n",
              "        buttonEl.style.display =\n",
              "          google.colab.kernel.accessAllowed ? 'block' : 'none';\n",
              "\n",
              "        async function convertToInteractive(key) {\n",
              "          const element = document.querySelector('#df-ac2b8f1d-4ff8-46f2-87ab-7e30ea74e5a0');\n",
              "          const dataTable =\n",
              "            await google.colab.kernel.invokeFunction('convertToInteractive',\n",
              "                                                     [key], {});\n",
              "          if (!dataTable) return;\n",
              "\n",
              "          const docLinkHtml = 'Like what you see? Visit the ' +\n",
              "            '<a target=\"_blank\" href=https://colab.research.google.com/notebooks/data_table.ipynb>data table notebook</a>'\n",
              "            + ' to learn more about interactive tables.';\n",
              "          element.innerHTML = '';\n",
              "          dataTable['output_type'] = 'display_data';\n",
              "          await google.colab.output.renderOutput(dataTable, element);\n",
              "          const docLink = document.createElement('div');\n",
              "          docLink.innerHTML = docLinkHtml;\n",
              "          element.appendChild(docLink);\n",
              "        }\n",
              "      </script>\n",
              "    </div>\n",
              "  </div>\n",
              "  "
            ]
          },
          "metadata": {},
          "execution_count": 54
        }
      ]
    },
    {
      "cell_type": "code",
      "source": [
        "\n",
        "pip install nltk"
      ],
      "metadata": {
        "colab": {
          "base_uri": "https://localhost:8080/"
        },
        "id": "c3hfVXEnySmF",
        "outputId": "69c414ff-4764-48c4-fd67-199aac5ccfc6"
      },
      "execution_count": null,
      "outputs": [
        {
          "output_type": "stream",
          "name": "stdout",
          "text": [
            "Looking in indexes: https://pypi.org/simple, https://us-python.pkg.dev/colab-wheels/public/simple/\n",
            "Requirement already satisfied: nltk in /usr/local/lib/python3.10/dist-packages (3.8.1)\n",
            "Requirement already satisfied: click in /usr/local/lib/python3.10/dist-packages (from nltk) (8.1.3)\n",
            "Requirement already satisfied: joblib in /usr/local/lib/python3.10/dist-packages (from nltk) (1.2.0)\n",
            "Requirement already satisfied: regex>=2021.8.3 in /usr/local/lib/python3.10/dist-packages (from nltk) (2022.10.31)\n",
            "Requirement already satisfied: tqdm in /usr/local/lib/python3.10/dist-packages (from nltk) (4.65.0)\n"
          ]
        }
      ]
    },
    {
      "cell_type": "code",
      "source": [
        "\n",
        "import nltk\n",
        "from nltk.stem.porter import PorterStemmer\n",
        "ps=PorterStemmer()\n",
        "def steming(text):\n",
        "  l=[]\n",
        "  for i in text:\n",
        "\n",
        "    l.append(ps.stem(i))\n",
        "  return l\n",
        "\n",
        "     \n",
        "\n",
        "\n",
        "     "
      ],
      "metadata": {
        "id": "tvPY4ctQyZGh"
      },
      "execution_count": null,
      "outputs": []
    },
    {
      "cell_type": "code",
      "source": [
        "new_df['all_tags']=new_df['all_tags'].apply(steming)\n",
        "     \n"
      ],
      "metadata": {
        "id": "HQnSTMmNydfy"
      },
      "execution_count": null,
      "outputs": []
    },
    {
      "cell_type": "code",
      "source": [
        "\n",
        "new_df.sample(5)"
      ],
      "metadata": {
        "colab": {
          "base_uri": "https://localhost:8080/",
          "height": 206
        },
        "id": "ai975o9pyju1",
        "outputId": "6bcc49da-6250-4549-a737-2e38449af504"
      },
      "execution_count": null,
      "outputs": [
        {
          "output_type": "execute_result",
          "data": {
            "text/plain": [
              "         id                         title  \\\n",
              "4206  25312                           Yes   \n",
              "1835   6977        No Country for Old Men   \n",
              "2783  24227               Excessive Force   \n",
              "2586  45272                Country Strong   \n",
              "2198   2428  The Greatest Story Ever Told   \n",
              "\n",
              "                                       urls  \\\n",
              "4206                       https://www./Yes   \n",
              "1835        https://www./NoCountryforOldMen   \n",
              "2783            https://www./ExcessiveForce   \n",
              "2586    http://www.countrystrong-movie.com/   \n",
              "2198  https://www./TheGreatestStoryEverTold   \n",
              "\n",
              "                                               all_tags  \n",
              "4206  [she, is, a, scientist., he, is, a, lebanes, d...  \n",
              "1835  [llewelyn, moss, stumbl, upon, dead, bodies,, ...  \n",
              "2783  [chicago, policeman, terri, mccain, is, determ...  \n",
              "2586  [soon, after, the, rise, young, singer-songwri...  \n",
              "2198  [all-star, epic, retel, of, christ', life., dr...  "
            ],
            "text/html": [
              "\n",
              "  <div id=\"df-4bda2beb-a31b-4d05-874e-646e03f4e256\">\n",
              "    <div class=\"colab-df-container\">\n",
              "      <div>\n",
              "<style scoped>\n",
              "    .dataframe tbody tr th:only-of-type {\n",
              "        vertical-align: middle;\n",
              "    }\n",
              "\n",
              "    .dataframe tbody tr th {\n",
              "        vertical-align: top;\n",
              "    }\n",
              "\n",
              "    .dataframe thead th {\n",
              "        text-align: right;\n",
              "    }\n",
              "</style>\n",
              "<table border=\"1\" class=\"dataframe\">\n",
              "  <thead>\n",
              "    <tr style=\"text-align: right;\">\n",
              "      <th></th>\n",
              "      <th>id</th>\n",
              "      <th>title</th>\n",
              "      <th>urls</th>\n",
              "      <th>all_tags</th>\n",
              "    </tr>\n",
              "  </thead>\n",
              "  <tbody>\n",
              "    <tr>\n",
              "      <th>4206</th>\n",
              "      <td>25312</td>\n",
              "      <td>Yes</td>\n",
              "      <td>https://www./Yes</td>\n",
              "      <td>[she, is, a, scientist., he, is, a, lebanes, d...</td>\n",
              "    </tr>\n",
              "    <tr>\n",
              "      <th>1835</th>\n",
              "      <td>6977</td>\n",
              "      <td>No Country for Old Men</td>\n",
              "      <td>https://www./NoCountryforOldMen</td>\n",
              "      <td>[llewelyn, moss, stumbl, upon, dead, bodies,, ...</td>\n",
              "    </tr>\n",
              "    <tr>\n",
              "      <th>2783</th>\n",
              "      <td>24227</td>\n",
              "      <td>Excessive Force</td>\n",
              "      <td>https://www./ExcessiveForce</td>\n",
              "      <td>[chicago, policeman, terri, mccain, is, determ...</td>\n",
              "    </tr>\n",
              "    <tr>\n",
              "      <th>2586</th>\n",
              "      <td>45272</td>\n",
              "      <td>Country Strong</td>\n",
              "      <td>http://www.countrystrong-movie.com/</td>\n",
              "      <td>[soon, after, the, rise, young, singer-songwri...</td>\n",
              "    </tr>\n",
              "    <tr>\n",
              "      <th>2198</th>\n",
              "      <td>2428</td>\n",
              "      <td>The Greatest Story Ever Told</td>\n",
              "      <td>https://www./TheGreatestStoryEverTold</td>\n",
              "      <td>[all-star, epic, retel, of, christ', life., dr...</td>\n",
              "    </tr>\n",
              "  </tbody>\n",
              "</table>\n",
              "</div>\n",
              "      <button class=\"colab-df-convert\" onclick=\"convertToInteractive('df-4bda2beb-a31b-4d05-874e-646e03f4e256')\"\n",
              "              title=\"Convert this dataframe to an interactive table.\"\n",
              "              style=\"display:none;\">\n",
              "        \n",
              "  <svg xmlns=\"http://www.w3.org/2000/svg\" height=\"24px\"viewBox=\"0 0 24 24\"\n",
              "       width=\"24px\">\n",
              "    <path d=\"M0 0h24v24H0V0z\" fill=\"none\"/>\n",
              "    <path d=\"M18.56 5.44l.94 2.06.94-2.06 2.06-.94-2.06-.94-.94-2.06-.94 2.06-2.06.94zm-11 1L8.5 8.5l.94-2.06 2.06-.94-2.06-.94L8.5 2.5l-.94 2.06-2.06.94zm10 10l.94 2.06.94-2.06 2.06-.94-2.06-.94-.94-2.06-.94 2.06-2.06.94z\"/><path d=\"M17.41 7.96l-1.37-1.37c-.4-.4-.92-.59-1.43-.59-.52 0-1.04.2-1.43.59L10.3 9.45l-7.72 7.72c-.78.78-.78 2.05 0 2.83L4 21.41c.39.39.9.59 1.41.59.51 0 1.02-.2 1.41-.59l7.78-7.78 2.81-2.81c.8-.78.8-2.07 0-2.86zM5.41 20L4 18.59l7.72-7.72 1.47 1.35L5.41 20z\"/>\n",
              "  </svg>\n",
              "      </button>\n",
              "      \n",
              "  <style>\n",
              "    .colab-df-container {\n",
              "      display:flex;\n",
              "      flex-wrap:wrap;\n",
              "      gap: 12px;\n",
              "    }\n",
              "\n",
              "    .colab-df-convert {\n",
              "      background-color: #E8F0FE;\n",
              "      border: none;\n",
              "      border-radius: 50%;\n",
              "      cursor: pointer;\n",
              "      display: none;\n",
              "      fill: #1967D2;\n",
              "      height: 32px;\n",
              "      padding: 0 0 0 0;\n",
              "      width: 32px;\n",
              "    }\n",
              "\n",
              "    .colab-df-convert:hover {\n",
              "      background-color: #E2EBFA;\n",
              "      box-shadow: 0px 1px 2px rgba(60, 64, 67, 0.3), 0px 1px 3px 1px rgba(60, 64, 67, 0.15);\n",
              "      fill: #174EA6;\n",
              "    }\n",
              "\n",
              "    [theme=dark] .colab-df-convert {\n",
              "      background-color: #3B4455;\n",
              "      fill: #D2E3FC;\n",
              "    }\n",
              "\n",
              "    [theme=dark] .colab-df-convert:hover {\n",
              "      background-color: #434B5C;\n",
              "      box-shadow: 0px 1px 3px 1px rgba(0, 0, 0, 0.15);\n",
              "      filter: drop-shadow(0px 1px 2px rgba(0, 0, 0, 0.3));\n",
              "      fill: #FFFFFF;\n",
              "    }\n",
              "  </style>\n",
              "\n",
              "      <script>\n",
              "        const buttonEl =\n",
              "          document.querySelector('#df-4bda2beb-a31b-4d05-874e-646e03f4e256 button.colab-df-convert');\n",
              "        buttonEl.style.display =\n",
              "          google.colab.kernel.accessAllowed ? 'block' : 'none';\n",
              "\n",
              "        async function convertToInteractive(key) {\n",
              "          const element = document.querySelector('#df-4bda2beb-a31b-4d05-874e-646e03f4e256');\n",
              "          const dataTable =\n",
              "            await google.colab.kernel.invokeFunction('convertToInteractive',\n",
              "                                                     [key], {});\n",
              "          if (!dataTable) return;\n",
              "\n",
              "          const docLinkHtml = 'Like what you see? Visit the ' +\n",
              "            '<a target=\"_blank\" href=https://colab.research.google.com/notebooks/data_table.ipynb>data table notebook</a>'\n",
              "            + ' to learn more about interactive tables.';\n",
              "          element.innerHTML = '';\n",
              "          dataTable['output_type'] = 'display_data';\n",
              "          await google.colab.output.renderOutput(dataTable, element);\n",
              "          const docLink = document.createElement('div');\n",
              "          docLink.innerHTML = docLinkHtml;\n",
              "          element.appendChild(docLink);\n",
              "        }\n",
              "      </script>\n",
              "    </div>\n",
              "  </div>\n",
              "  "
            ]
          },
          "metadata": {},
          "execution_count": 58
        }
      ]
    },
    {
      "cell_type": "code",
      "source": [
        "\n",
        "new_df[\"all_tags\"]=new_df[\"all_tags\"].apply(_join)\n",
        "     \n",
        "\n"
      ],
      "metadata": {
        "id": "1wiWOB9hypep"
      },
      "execution_count": null,
      "outputs": []
    },
    {
      "cell_type": "code",
      "source": [
        "new_df['all_tags'] = new_df['all_tags'].apply(lambda x: \" \".join(x))"
      ],
      "metadata": {
        "id": "QTUL7PlAypwD"
      },
      "execution_count": null,
      "outputs": []
    },
    {
      "cell_type": "code",
      "source": [
        "from sklearn.feature_extraction.text import CountVectorizer\n",
        "cv = CountVectorizer(stop_words='english')"
      ],
      "metadata": {
        "id": "08pb6fwiyxfX"
      },
      "execution_count": null,
      "outputs": []
    },
    {
      "cell_type": "code",
      "source": [
        "\n",
        "data = cv.fit_transform(new_df['all_tags']).toarray()\n",
        "data\n",
        "     "
      ],
      "metadata": {
        "colab": {
          "base_uri": "https://localhost:8080/"
        },
        "id": "0-3q8toSy0vJ",
        "outputId": "bbb67da2-e27d-44e1-d7e4-820043b6e863"
      },
      "execution_count": null,
      "outputs": [
        {
          "output_type": "execute_result",
          "data": {
            "text/plain": [
              "array([[0, 0, 0, ..., 0, 0, 0],\n",
              "       [0, 0, 0, ..., 0, 0, 0],\n",
              "       [0, 0, 0, ..., 0, 0, 0],\n",
              "       ...,\n",
              "       [0, 0, 0, ..., 0, 0, 0],\n",
              "       [0, 0, 0, ..., 0, 0, 0],\n",
              "       [0, 0, 0, ..., 0, 0, 0]])"
            ]
          },
          "metadata": {},
          "execution_count": 62
        }
      ]
    },
    {
      "cell_type": "code",
      "source": [
        "from sklearn.metrics.pairwise import cosine_similarity\n",
        "similarity = cosine_similarity(data)\n",
        "similarity\n"
      ],
      "metadata": {
        "colab": {
          "base_uri": "https://localhost:8080/"
        },
        "id": "QhUDMPYxy4Ie",
        "outputId": "9244a59f-66cb-4872-f063-db44af5ed0b0"
      },
      "execution_count": null,
      "outputs": [
        {
          "output_type": "execute_result",
          "data": {
            "text/plain": [
              "array([[1.        , 0.06776309, 0.06862635, ..., 0.03571429, 0.        ,\n",
              "        0.        ],\n",
              "       [0.06776309, 1.        , 0.05063697, ..., 0.01976424, 0.        ,\n",
              "        0.0209427 ],\n",
              "       [0.06862635, 0.05063697, 1.        , ..., 0.02001602, 0.        ,\n",
              "        0.        ],\n",
              "       ...,\n",
              "       [0.03571429, 0.01976424, 0.02001602, ..., 1.        , 0.03311331,\n",
              "        0.03311331],\n",
              "       [0.        , 0.        , 0.        , ..., 0.03311331, 1.        ,\n",
              "        0.07017544],\n",
              "       [0.        , 0.0209427 , 0.        , ..., 0.03311331, 0.07017544,\n",
              "        1.        ]])"
            ]
          },
          "metadata": {},
          "execution_count": 63
        }
      ]
    },
    {
      "cell_type": "code",
      "source": [
        "def movie_recommend(movie):\n",
        "    index = new_df[new_df['title'] == movie].index[0]\n",
        "    distances = sorted(list(enumerate(similarity[index])),reverse=True,key = lambda x: x[1])\n",
        "    for i in distances[1:8]:\n",
        "\n",
        "      \n",
        "      print(\"{} {}\".format(new_df.iloc[i[0]].title,new_df.iloc[i[0]].urls))"
      ],
      "metadata": {
        "id": "tzh43vhoy9nN"
      },
      "execution_count": null,
      "outputs": []
    },
    {
      "cell_type": "code",
      "source": [
        "movie_recommend(\"Avatar\")"
      ],
      "metadata": {
        "colab": {
          "base_uri": "https://localhost:8080/"
        },
        "id": "rbMOV2XXzPJe",
        "outputId": "d6b094af-0116-4170-cd84-4c062a71cfc2"
      },
      "execution_count": null,
      "outputs": [
        {
          "output_type": "stream",
          "name": "stdout",
          "text": [
            "Aliens https://www./Aliens\n",
            "Aliens vs Predator: Requiem http://www.avp-r.com/\n",
            "Titan A.E. https://www./TitanA.E.\n",
            "Independence Day https://www./IndependenceDay\n",
            "Battle: Los Angeles http://www.battlela.com\n",
            "Meet Dave http://www.meetdavemovie.com/\n",
            "Predators https://www./Predators\n"
          ]
        }
      ]
    },
    {
      "cell_type": "code",
      "source": [
        "\n",
        "movie_recommend(\"Batman\")"
      ],
      "metadata": {
        "colab": {
          "base_uri": "https://localhost:8080/"
        },
        "id": "08TPQBc9zTr_",
        "outputId": "3488e22d-d456-4706-f248-101d393a9d8b"
      },
      "execution_count": null,
      "outputs": [
        {
          "output_type": "stream",
          "name": "stdout",
          "text": [
            "Batman https://www./Batman\n",
            "Batman & Robin https://www./Batman&Robin\n",
            "The R.M. http://www.halestormentertainment.com/p_movies_details.asp?mID=jnlppmp8\n",
            "Batman Begins http://www2.warnerbros.com/batmanbegins/index.html\n",
            "Batman Returns https://www./BatmanReturns\n",
            "The Dark Knight http://thedarkknight.warnerbros.com/dvdsite/\n",
            "The Dark Knight Rises http://www.thedarkknightrises.com/\n"
          ]
        }
      ]
    },
    {
      "cell_type": "code",
      "source": [
        "movie_recommend(\"2016: Obama's America\")"
      ],
      "metadata": {
        "colab": {
          "base_uri": "https://localhost:8080/"
        },
        "id": "lsKJU8UNzZeS",
        "outputId": "490326d9-4157-4b53-969a-1780a7a42024"
      },
      "execution_count": null,
      "outputs": [
        {
          "output_type": "stream",
          "name": "stdout",
          "text": [
            "Captain America: The Winter Soldier http://www.captainamericathewintersoldiermovie.com\n",
            "Bowling for Columbine http://www.bowlingforcolumbine.com/index.php\n",
            "Captain America: The First Avenger http://captainamerica.marvel.com/\n",
            "The Algerian http://thealgerianmovie.com/\n",
            "Team America: World Police http://www.teamamerica.com\n",
            "Beavis and Butt-Head Do America https://www./BeavisandButt-HeadDoAmerica\n",
            "Nothing But a Man https://www./NothingButaMan\n"
          ]
        }
      ]
    },
    {
      "cell_type": "code",
      "source": [
        "import pickle"
      ],
      "metadata": {
        "id": "g_KL1GV1zfdd"
      },
      "execution_count": null,
      "outputs": []
    },
    {
      "cell_type": "code",
      "source": [
        "\n",
        "pickle.dump(new_df,open(\"movie_recm.pkl\",\"wb\"))\n",
        "pickle.dump(similarity,open(\"similarity.pkl\",\"wb\"))"
      ],
      "metadata": {
        "id": "kHSCCcO_zj-y"
      },
      "execution_count": null,
      "outputs": []
    },
    {
      "cell_type": "code",
      "source": [
        "np.array(new_df[\"title\"])"
      ],
      "metadata": {
        "colab": {
          "base_uri": "https://localhost:8080/"
        },
        "id": "TPjjlewMzlwl",
        "outputId": "f2b538b6-7838-4226-8c02-6646afe489ec"
      },
      "execution_count": null,
      "outputs": [
        {
          "output_type": "execute_result",
          "data": {
            "text/plain": [
              "array(['Avatar', \"Pirates of the Caribbean: At World's End\", 'Spectre',\n",
              "       ..., 'Signed, Sealed, Delivered', 'Shanghai Calling',\n",
              "       'My Date with Drew'], dtype=object)"
            ]
          },
          "metadata": {},
          "execution_count": 73
        }
      ]
    }
  ]
}